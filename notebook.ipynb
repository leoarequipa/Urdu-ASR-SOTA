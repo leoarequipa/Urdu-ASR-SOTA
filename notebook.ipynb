{
  "cells": [
    {
      "cell_type": "markdown",
      "metadata": {
        "id": "LBSYoWbi-45k"
      },
      "source": [
        "# **Fine-tuning XLS-R for Multi-Lingual ASR with 🤗 Transformers**\n",
        "\n",
        "***New (11/2021)***: *This blog post has been updated to feature XLSR's successor, called [XLS-R](https://huggingface.co/models?other=xls_r)*."
      ]
    },
    {
      "cell_type": "markdown",
      "metadata": {
        "id": "nT_QrfWtsxIz"
      },
      "source": [
        "## Notebook Setup"
      ]
    },
    {
      "cell_type": "markdown",
      "metadata": {
        "id": "wcHuXIaWyHZU"
      },
      "source": [
        "First, let's try to get a good GPU in our colab! With Google Colab's free version it's sadly becoming much harder to get access to a good GPU. With Google Colab Pro, however, one should easily get either a V100 or P100 GPU."
      ]
    },
    {
      "cell_type": "code",
      "execution_count": 1,
      "metadata": {
        "colab": {
          "base_uri": "https://localhost:8080/"
        },
        "id": "YELVqGxMxnbG",
        "outputId": "70b5afa4-6790-4c60-821b-dd6600c8e092"
      },
      "outputs": [
        {
          "output_type": "stream",
          "name": "stdout",
          "text": [
            "Mon Mar 14 12:58:46 2022       \n",
            "+-----------------------------------------------------------------------------+\n",
            "| NVIDIA-SMI 460.32.03    Driver Version: 460.32.03    CUDA Version: 11.2     |\n",
            "|-------------------------------+----------------------+----------------------+\n",
            "| GPU  Name        Persistence-M| Bus-Id        Disp.A | Volatile Uncorr. ECC |\n",
            "| Fan  Temp  Perf  Pwr:Usage/Cap|         Memory-Usage | GPU-Util  Compute M. |\n",
            "|                               |                      |               MIG M. |\n",
            "|===============================+======================+======================|\n",
            "|   0  Tesla K80           Off  | 00000000:00:04.0 Off |                    0 |\n",
            "| N/A   62C    P8    62W / 149W |      0MiB / 11441MiB |      0%      Default |\n",
            "|                               |                      |                  N/A |\n",
            "+-------------------------------+----------------------+----------------------+\n",
            "                                                                               \n",
            "+-----------------------------------------------------------------------------+\n",
            "| Processes:                                                                  |\n",
            "|  GPU   GI   CI        PID   Type   Process name                  GPU Memory |\n",
            "|        ID   ID                                                   Usage      |\n",
            "|=============================================================================|\n",
            "|  No running processes found                                                 |\n",
            "+-----------------------------------------------------------------------------+\n"
          ]
        }
      ],
      "source": [
        "gpu_info = !nvidia-smi\n",
        "gpu_info = '\\n'.join(gpu_info)\n",
        "if gpu_info.find('failed') >= 0:\n",
        "  print('Not connected to a GPU')\n",
        "else:\n",
        "  print(gpu_info)"
      ]
    },
    {
      "cell_type": "markdown",
      "metadata": {
        "id": "e335hPmdtASZ"
      },
      "source": [
        "Before we start, let's install `datasets` and `transformers`. Also, we need the `torchaudio` to load audio files and `jiwer` to evaluate our fine-tuned model using the [word error rate (WER)](https://huggingface.co/metrics/wer) metric ${}^1$."
      ]
    },
    {
      "cell_type": "code",
      "execution_count": 2,
      "metadata": {
        "id": "c8eh87Hoee5d"
      },
      "outputs": [],
      "source": [
        "%%capture\n",
        "!pip install datasets\n",
        "!pip install -U datasets\n",
        "!pip install -U transformers\n",
        "!pip install huggingface_hub\n",
        "!pip install torchaudio\n",
        "!pip install jiwer\n",
        "!pip install mlflow\n",
        "!pip install fastds\n",
        "!pip install dvc\n",
        "!pip install dagshub"
      ]
    },
    {
      "cell_type": "code",
      "source": [
        "!fds clone https://dagshub.com/kingabzpro/Urdu-ASR-SOTA.git /content/Urdu-ASR"
      ],
      "metadata": {
        "id": "7FRuaqUOVLCt"
      },
      "execution_count": 3,
      "outputs": []
    },
    {
      "cell_type": "markdown",
      "metadata": {
        "id": "Mn9swf6EQ9Vd"
      },
      "source": [
        "\n",
        "\n",
        "\n",
        "---\n",
        "\n",
        "${}^1$ In the [paper](https://arxiv.org/pdf/2006.13979.pdf), the model was evaluated using the phoneme error rate (PER), but by far the most common metric in ASR is the word error rate (WER). To keep this notebook as general as possible we decided to evaluate the model using WER."
      ]
    },
    {
      "cell_type": "markdown",
      "metadata": {
        "id": "0mW-C1Nt-j7k"
      },
      "source": [
        "## Prepare Data, Tokenizer, Feature Extractor"
      ]
    },
    {
      "cell_type": "markdown",
      "metadata": {
        "id": "BeBosnY9BH3e"
      },
      "source": [
        "ASR models transcribe speech to text, which means that we both need a feature extractor that processes the speech signal to the model's input format, *e.g.* a feature vector, and a tokenizer that processes the model's output format to text. \n",
        "\n",
        "In 🤗 Transformers, the XLS-R model is thus accompanied by both a tokenizer, called [Wav2Vec2CTCTokenizer](https://huggingface.co/transformers/master/model_doc/wav2vec2.html#wav2vec2ctctokenizer), and a feature extractor, called [Wav2Vec2FeatureExtractor](https://huggingface.co/transformers/master/model_doc/wav2vec2.html#wav2vec2featureextractor).\n",
        "\n",
        "Let's start by creating the tokenizer to decode the predicted output classes to the output transcription."
      ]
    },
    {
      "cell_type": "markdown",
      "metadata": {
        "id": "sEXEWEJGQPqD"
      },
      "source": [
        "### Create `Wav2Vec2CTCTokenizer`"
      ]
    },
    {
      "cell_type": "markdown",
      "metadata": {
        "id": "tWmMikuNEKl_"
      },
      "source": [
        "A pre-trained XLS-R model maps the speech signal to a sequence of context representations as illustrated in the figure above. However, for speech recognition the model has to to map this sequence of context representations to its corresponding transcription which means that a linear layer has to be added on top of the transformer block (shown in yellow in the diagram above). This linear layer is used to classifies each context representation to a token class analogous how, *e.g.*, after pretraining a linear layer is added on top of BERT's embeddings for further classification - *cf.* with *'BERT'* section of this [blog post](https://huggingface.co/blog/warm-starting-encoder-decoder)."
      ]
    },
    {
      "cell_type": "markdown",
      "metadata": {
        "id": "v5oRE8XjIUH3"
      },
      "source": [
        "The output size of this layer corresponds to the number of tokens in the vocabulary, which does **not** depend onXLS-R's pretraining task, but only on the labeled dataset used for fine-tuning. So in the first step, we will take a look at the chosen dataset of Common Voice and define a vocabulary based on the transcriptions."
      ]
    },
    {
      "cell_type": "markdown",
      "metadata": {
        "id": "idBczw8mWzgt"
      },
      "source": [
        "First, let's go to Common Voice [official website](https://commonvoice.mozilla.org/en/datasets) and pick a language to fine-tune XLS-R on. For this notebook, we will use Turkish. \n",
        "\n",
        "For each language-specific dataset, you can find a language code corresponding to your chosen language. On [Common Voice](https://commonvoice.mozilla.org/en/datasets), look for the field \"Version\". The language code then corresponds to the prefix before the underscore. For Urdu, *e.g.* the language code is `\"ur\"`.\n",
        "\n",
        "Great, now we can use 🤗 Datasets' simple API to download the data. The dataset name is `\"common_voice\"`, the configuration name corresponds to the language code, which is `\"ur\"` in our case."
      ]
    },
    {
      "cell_type": "markdown",
      "metadata": {
        "id": "bee4g9rpLxll"
      },
      "source": [
        "Common Voice has many different splits including `invalidated`, which refers to data that was not rated as \"clean enough\" to be considered useful. In this notebook, we will only make use of the splits `\"train\"`, `\"validation\"` and `\"test\"`. \n",
        "\n",
        "Because the Turkish dataset is so small, we will merge both the validation and training data into a training dataset and only use the test data for validation."
      ]
    },
    {
      "cell_type": "code",
      "source": [
        "%cd /content/Urdu-ASR"
      ],
      "metadata": {
        "colab": {
          "base_uri": "https://localhost:8080/"
        },
        "id": "QypfbmGCXQrF",
        "outputId": "36f9026c-e027-4aac-cdf4-26e8ce7c46e8"
      },
      "execution_count": 4,
      "outputs": [
        {
          "output_type": "stream",
          "name": "stdout",
          "text": [
            "/content/Urdu-ASR\n"
          ]
        }
      ]
    },
    {
      "cell_type": "code",
      "execution_count": 5,
      "metadata": {
        "colab": {
          "base_uri": "https://localhost:8080/"
        },
        "id": "2MMXcWFFgCXU",
        "outputId": "37926a80-2de4-4c17-b14a-994c2fdca267"
      },
      "outputs": [
        {
          "output_type": "stream",
          "name": "stderr",
          "text": [
            "Using custom data configuration Data-ce46ea826374b947\n",
            "Reusing dataset csv (/root/.cache/huggingface/datasets/csv/Data-ce46ea826374b947/0.0.0/433e0ccc46f9880962cc2b12065189766fbb2bee57a221866138fb9203c83519)\n",
            "Using custom data configuration Data-ce46ea826374b947\n",
            "Reusing dataset csv (/root/.cache/huggingface/datasets/csv/Data-ce46ea826374b947/0.0.0/433e0ccc46f9880962cc2b12065189766fbb2bee57a221866138fb9203c83519)\n"
          ]
        }
      ],
      "source": [
        "from datasets import load_dataset, load_metric, Audio\n",
        "\n",
        "common_voice_train = load_dataset(\"Data\", \"ur\", delimiter=\"\\t\", split=\"train+validation\")\n",
        "common_voice_test = load_dataset(\"Data\", \"ur\",delimiter=\"\\t\" ,split=\"test\")"
      ]
    },
    {
      "cell_type": "markdown",
      "metadata": {
        "id": "ri5y5N_HMANq"
      },
      "source": [
        "Many ASR datasets only provide the target text, `'sentence'` for each audio array `'audio'` and file `'path'`. Common Voice actually provides much more information about each audio file, such as the `'accent'`, etc. Keeping the notebook as general as possible, we only consider the transcribed text for fine-tuning.\n",
        "\n"
      ]
    },
    {
      "cell_type": "code",
      "execution_count": 6,
      "metadata": {
        "id": "kbyq6lDgQc2a"
      },
      "outputs": [],
      "source": [
        "common_voice_train = common_voice_train.remove_columns([\"accents\", \"age\", \"client_id\", \"down_votes\", \"gender\", \"locale\", \"segment\", \"up_votes\"])\n",
        "common_voice_test = common_voice_test.remove_columns([\"accents\", \"age\", \"client_id\", \"down_votes\", \"gender\", \"locale\", \"segment\", \"up_votes\"])"
      ]
    },
    {
      "cell_type": "markdown",
      "metadata": {
        "id": "Go9Hq4e4NDT9"
      },
      "source": [
        "Let's write a short function to display some random samples of the dataset and run it a couple of times to get a feeling for the transcriptions."
      ]
    },
    {
      "cell_type": "code",
      "execution_count": 7,
      "metadata": {
        "id": "QL4nSK5yR-Qh"
      },
      "outputs": [],
      "source": [
        "def cleaning(text):\n",
        "    if not isinstance(text, str):\n",
        "        return None\n",
        "\n",
        "    return normalizer({\"sentence\": text}, return_dict=False)"
      ]
    },
    {
      "cell_type": "code",
      "execution_count": 8,
      "metadata": {
        "id": "72737oog2F6U"
      },
      "outputs": [],
      "source": [
        "from datasets import ClassLabel\n",
        "import random\n",
        "import pandas as pd\n",
        "from IPython.display import display, HTML\n",
        "\n",
        "def show_random_elements(dataset, num_examples=10):\n",
        "    assert num_examples <= len(dataset), \"Can't pick more elements than there are in the dataset.\"\n",
        "    picks = []\n",
        "    for _ in range(num_examples):\n",
        "        pick = random.randint(0, len(dataset)-1)\n",
        "        while pick in picks:\n",
        "            pick = random.randint(0, len(dataset)-1)\n",
        "        picks.append(pick)\n",
        "    \n",
        "    df = pd.DataFrame(dataset[picks])\n",
        "    display(HTML(df.to_html()))"
      ]
    },
    {
      "cell_type": "code",
      "execution_count": 9,
      "metadata": {
        "colab": {
          "base_uri": "https://localhost:8080/",
          "height": 363
        },
        "id": "K_JUmf3G3b9S",
        "outputId": "e6ecb9f8-241b-451e-ae6d-14d8dbbc27cd"
      },
      "outputs": [
        {
          "output_type": "display_data",
          "data": {
            "text/plain": [
              "<IPython.core.display.HTML object>"
            ],
            "text/html": [
              "<table border=\"1\" class=\"dataframe\">\n",
              "  <thead>\n",
              "    <tr style=\"text-align: right;\">\n",
              "      <th></th>\n",
              "      <th>path</th>\n",
              "      <th>sentence</th>\n",
              "    </tr>\n",
              "  </thead>\n",
              "  <tbody>\n",
              "    <tr>\n",
              "      <th>0</th>\n",
              "      <td>common_voice_ur_26652628.mp3</td>\n",
              "      <td>نوازشریف اب ایک نئے تعارف کے ساتھ سامنے آرہے ہیں۔</td>\n",
              "    </tr>\n",
              "    <tr>\n",
              "      <th>1</th>\n",
              "      <td>common_voice_ur_26942382.mp3</td>\n",
              "      <td>کوئی بات نہیں جی</td>\n",
              "    </tr>\n",
              "    <tr>\n",
              "      <th>2</th>\n",
              "      <td>common_voice_ur_26562775.mp3</td>\n",
              "      <td>نواز شریف سیاست میں کیسے کامیاب ہوئے؟</td>\n",
              "    </tr>\n",
              "    <tr>\n",
              "      <th>3</th>\n",
              "      <td>common_voice_ur_26636794.mp3</td>\n",
              "      <td>انہی کی نسل میں نبوت رہی۔</td>\n",
              "    </tr>\n",
              "    <tr>\n",
              "      <th>4</th>\n",
              "      <td>common_voice_ur_26654547.mp3</td>\n",
              "      <td>اسٹیٹ بینک کی مانیٹری پالیسی کا اعلان اج ہوگا</td>\n",
              "    </tr>\n",
              "    <tr>\n",
              "      <th>5</th>\n",
              "      <td>common_voice_ur_27210016.mp3</td>\n",
              "      <td>اوراسی کے وجود سے ریاست قائم ہے۔</td>\n",
              "    </tr>\n",
              "    <tr>\n",
              "      <th>6</th>\n",
              "      <td>common_voice_ur_26703778.mp3</td>\n",
              "      <td>پھر بھی تم لوگ بعض نہیں آتے ۔</td>\n",
              "    </tr>\n",
              "    <tr>\n",
              "      <th>7</th>\n",
              "      <td>common_voice_ur_26623444.mp3</td>\n",
              "      <td>بھارت میں انتہا پسندی بڑھے گی۔</td>\n",
              "    </tr>\n",
              "    <tr>\n",
              "      <th>8</th>\n",
              "      <td>common_voice_ur_26652032.mp3</td>\n",
              "      <td>آج کل تو مسلمان ممالک کی افواج استعمال ہوتی ہیں</td>\n",
              "    </tr>\n",
              "    <tr>\n",
              "      <th>9</th>\n",
              "      <td>common_voice_ur_26652580.mp3</td>\n",
              "      <td>اپنی شرٹ کے بٹن بند کرو</td>\n",
              "    </tr>\n",
              "  </tbody>\n",
              "</table>"
            ]
          },
          "metadata": {}
        }
      ],
      "source": [
        "show_random_elements(common_voice_train, num_examples=10)"
      ]
    },
    {
      "cell_type": "markdown",
      "metadata": {
        "id": "fowcOllGNNju"
      },
      "source": [
        "Alright! The transcriptions look fairly clean. Having translated the transcribed sentences, it seems that the language corresponds more to written-out text than noisy dialogue. This makes sense considering that [Common Voice](https://huggingface.co/datasets/common_voice) is a crowd-sourced read speech corpus."
      ]
    },
    {
      "cell_type": "markdown",
      "metadata": {
        "id": "vq7OR50LN49m"
      },
      "source": [
        "We can see that the transcriptions contain some special characters, such as `,.?!;:`. Without a language model, it is much harder to classify speech chunks to such special characters because they don't really correspond to a characteristic sound unit. *E.g.*, the letter `\"s\"` has a more or less clear sound, whereas the special character `\".\"` does not.\n",
        "Also in order to understand the meaning of a speech signal, it is usually not necessary to include special characters in the transcription.\n",
        "\n",
        "Let's simply remove all characters that don't contribute to the meaning of a word and cannot really be represented by an acoustic sound and normalize the text."
      ]
    },
    {
      "cell_type": "code",
      "execution_count": 10,
      "metadata": {
        "id": "svKzVJ_hQGK6"
      },
      "outputs": [],
      "source": [
        "import re\n",
        "import unicodedata\n",
        "# chars_to_remove_regex = \"\"\"[\\!\\؛\\،\\٫\\؟\\۔\\٪\\\"\\'\\:\\-\\‘\\’]\"\"\"\n",
        "\n",
        "def normalize_text(batch):\n",
        "    \"\"\"DO ADAPT FOR YOUR USE CASE. this function normalizes the target text.\"\"\"\n",
        "\n",
        "    chars_to_ignore_regex = \"\"\"[\\!\\؛\\،\\٫\\؟\\۔\\٪\\\"\\'\\:\\-\\‘\\’]\"\"\"  # noqa: W605 IMPORTANT: this should correspond to the chars that were ignored during training\n",
        "    batch[\"sentence\"] = re.sub(chars_to_ignore_regex, \"\", batch[\"sentence\"].lower())\n",
        "    batch[\"sentence\"] = unicodedata.normalize(\"NFKC\", batch[\"sentence\"])\n",
        "\n",
        "    # In addition, we can normalize the target text, e.g. removing new lines characters etc...\n",
        "    # note that order is important here!\n",
        "    # token_sequences_to_ignore = [\"\\n\\n\", \"\\n\", \"   \", \"  \"]\n",
        "\n",
        "    # for t in token_sequences_to_ignore:\n",
        "    #     batch[\"sentence\"] = \" \".join(batch[\"sentence\"].split(t))\n",
        "\n",
        "    return batch"
      ]
    },
    {
      "cell_type": "code",
      "execution_count": 11,
      "metadata": {
        "id": "XIHocAuTQbBR"
      },
      "outputs": [],
      "source": [
        "# common_voice_train = common_voice_train.map(cleaning)\n",
        "# common_voice_test = common_voice_test.map(cleaning)"
      ]
    },
    {
      "cell_type": "code",
      "execution_count": 12,
      "metadata": {
        "colab": {
          "base_uri": "https://localhost:8080/"
        },
        "id": "6dJq58N4SZ5f",
        "outputId": "e4e17870-62aa-46f8-eb2a-222164fd6032"
      },
      "outputs": [
        {
          "output_type": "stream",
          "name": "stderr",
          "text": [
            "Loading cached processed dataset at /root/.cache/huggingface/datasets/csv/Data-ce46ea826374b947/0.0.0/433e0ccc46f9880962cc2b12065189766fbb2bee57a221866138fb9203c83519/cache-ecdd8bc2b4f8f80f.arrow\n",
            "Loading cached processed dataset at /root/.cache/huggingface/datasets/csv/Data-ce46ea826374b947/0.0.0/433e0ccc46f9880962cc2b12065189766fbb2bee57a221866138fb9203c83519/cache-72925588f0f072d7.arrow\n"
          ]
        }
      ],
      "source": [
        "common_voice_train = common_voice_train.map(normalize_text)\n",
        "common_voice_test = common_voice_test.map(normalize_text)"
      ]
    },
    {
      "cell_type": "code",
      "source": [
        "def path_adjust(batch):\n",
        "  batch[\"path\"] = \"Data/ur/clips/\"+str(batch[\"path\"])\n",
        "  return batch"
      ],
      "metadata": {
        "id": "FwlkCjSHZ6T5"
      },
      "execution_count": 13,
      "outputs": []
    },
    {
      "cell_type": "code",
      "source": [
        "common_voice_train = common_voice_train.map(path_adjust)\n",
        "common_voice_test = common_voice_test.map(path_adjust)"
      ],
      "metadata": {
        "colab": {
          "base_uri": "https://localhost:8080/"
        },
        "id": "rWlDGlQwaWC-",
        "outputId": "90ecf72c-4bf4-476e-d749-ef2fa3c98ee0"
      },
      "execution_count": 14,
      "outputs": [
        {
          "output_type": "stream",
          "name": "stderr",
          "text": [
            "Loading cached processed dataset at /root/.cache/huggingface/datasets/csv/Data-ce46ea826374b947/0.0.0/433e0ccc46f9880962cc2b12065189766fbb2bee57a221866138fb9203c83519/cache-2f257b3b0c9bc0bf.arrow\n",
            "Loading cached processed dataset at /root/.cache/huggingface/datasets/csv/Data-ce46ea826374b947/0.0.0/433e0ccc46f9880962cc2b12065189766fbb2bee57a221866138fb9203c83519/cache-b0c43394ff8bd05f.arrow\n"
          ]
        }
      ]
    },
    {
      "cell_type": "markdown",
      "metadata": {
        "id": "TxnVS9gIhIma"
      },
      "source": [
        "Let's look at the processed text labels again."
      ]
    },
    {
      "cell_type": "code",
      "execution_count": 15,
      "metadata": {
        "colab": {
          "base_uri": "https://localhost:8080/",
          "height": 363
        },
        "id": "RBDRAAYxRE6n",
        "outputId": "51d58128-c199-48d9-d201-b9d2500a9053"
      },
      "outputs": [
        {
          "output_type": "display_data",
          "data": {
            "text/plain": [
              "<IPython.core.display.HTML object>"
            ],
            "text/html": [
              "<table border=\"1\" class=\"dataframe\">\n",
              "  <thead>\n",
              "    <tr style=\"text-align: right;\">\n",
              "      <th></th>\n",
              "      <th>sentence</th>\n",
              "    </tr>\n",
              "  </thead>\n",
              "  <tbody>\n",
              "    <tr>\n",
              "      <th>0</th>\n",
              "      <td>اپنی طرف توجہ مبذول کروانا پسند نہیں کرتا</td>\n",
              "    </tr>\n",
              "    <tr>\n",
              "      <th>1</th>\n",
              "      <td>نان کمرشل موضوع ہونے کے باوجود</td>\n",
              "    </tr>\n",
              "    <tr>\n",
              "      <th>2</th>\n",
              "      <td>تمل</td>\n",
              "    </tr>\n",
              "    <tr>\n",
              "      <th>3</th>\n",
              "      <td>لگائے جا رہے ہیں</td>\n",
              "    </tr>\n",
              "    <tr>\n",
              "      <th>4</th>\n",
              "      <td>اچھی بھی نہیں لگتی</td>\n",
              "    </tr>\n",
              "    <tr>\n",
              "      <th>5</th>\n",
              "      <td>یہ مقدر نہیں بدلتی</td>\n",
              "    </tr>\n",
              "    <tr>\n",
              "      <th>6</th>\n",
              "      <td>ترقیاتی کاموں کے لیے بجٹ کی خطیر رقم مختص کی گئی ہے</td>\n",
              "    </tr>\n",
              "    <tr>\n",
              "      <th>7</th>\n",
              "      <td>ازوریس کا معیاری وقت</td>\n",
              "    </tr>\n",
              "    <tr>\n",
              "      <th>8</th>\n",
              "      <td>لیکن ٹانکا لگانا کوئی ان سے سیکھے</td>\n",
              "    </tr>\n",
              "    <tr>\n",
              "      <th>9</th>\n",
              "      <td>آسٹریلیا</td>\n",
              "    </tr>\n",
              "  </tbody>\n",
              "</table>"
            ]
          },
          "metadata": {}
        }
      ],
      "source": [
        "show_random_elements(common_voice_train.remove_columns([\"path\"]))"
      ]
    },
    {
      "cell_type": "markdown",
      "metadata": {
        "id": "3ORHDb2Th2TW"
      },
      "source": [
        "In CTC, it is common to classify speech chunks into letters, so we will do the same here. \n",
        "Let's extract all distinct letters of the training and test data and build our vocabulary from this set of letters.\n",
        "\n",
        "We write a mapping function that concatenates all transcriptions into one long transcription and then transforms the string into a set of chars. \n",
        "It is important to pass the argument `batched=True` to the `map(...)` function so that the mapping function has access to all transcriptions at once."
      ]
    },
    {
      "cell_type": "code",
      "execution_count": 16,
      "metadata": {
        "id": "LwCshNbbeRZR"
      },
      "outputs": [],
      "source": [
        "def extract_all_chars(batch):\n",
        "  all_text = \" \".join(batch[\"sentence\"])\n",
        "  vocab = list(set(all_text))\n",
        "  return {\"vocab\": [vocab], \"all_text\": [all_text]}"
      ]
    },
    {
      "cell_type": "code",
      "execution_count": 17,
      "metadata": {
        "colab": {
          "base_uri": "https://localhost:8080/",
          "height": 81,
          "referenced_widgets": [
            "f36ef2953a78471f83668cc5b2dd3939",
            "ddead8fbf3c049d9ba2f9230d3679dcd",
            "b7b3f286421e4dfc9c31f6773f41a476",
            "44ba7b2c76c34d3ca9a18b55cc22e1d0",
            "972c7d2625c941aebcb703a05f36707d",
            "fc082dad8009470aa0941f04b95a3dcc",
            "184cd1a0e9ae44c1a2800cb34cf21f6e",
            "e954f23548624e6dabd8416652033d82",
            "e465fc21596a4e8ca0a88785135342f2",
            "818ee624f78949d89d9a5db63c5d6d57",
            "0802e170d72e4ff999697bf8ffd2c597",
            "68175a4447a749a8a795355c8d1760f5",
            "74a4b915a4c14c9f88c6c6915fef43aa",
            "d3ee69375f624322945585683abd15d0",
            "8a4f576b565940f48ee0141337eea9ad",
            "c10ec5576e4540e2b3a80687c6a35203",
            "cadb48a2a4f140bab83864f9a8bdc101",
            "da985e2f1e604db69cffa3029b8ef3fa",
            "957c2385c4d9492889dd1e563059a2eb",
            "bd9423d7fd79440cba90b829e9f83f37",
            "ed41e4dfba004526926e7f902b9bd4be",
            "b720ea4e8f574bf9963d7a587fddcb1e"
          ]
        },
        "id": "_m6uUjjcfbjH",
        "outputId": "09f290ad-ef91-425a-f16a-5f265ee679d6"
      },
      "outputs": [
        {
          "output_type": "display_data",
          "data": {
            "text/plain": [
              "  0%|          | 0/1 [00:00<?, ?ba/s]"
            ],
            "application/vnd.jupyter.widget-view+json": {
              "version_major": 2,
              "version_minor": 0,
              "model_id": "f36ef2953a78471f83668cc5b2dd3939"
            }
          },
          "metadata": {}
        },
        {
          "output_type": "display_data",
          "data": {
            "text/plain": [
              "  0%|          | 0/1 [00:00<?, ?ba/s]"
            ],
            "application/vnd.jupyter.widget-view+json": {
              "version_major": 2,
              "version_minor": 0,
              "model_id": "68175a4447a749a8a795355c8d1760f5"
            }
          },
          "metadata": {}
        }
      ],
      "source": [
        "vocab_train = common_voice_train.map(extract_all_chars, batched=True, batch_size=-1, keep_in_memory=True, remove_columns=common_voice_train.column_names)\n",
        "vocab_test = common_voice_test.map(extract_all_chars, batched=True, batch_size=-1, keep_in_memory=True, remove_columns=common_voice_test.column_names)"
      ]
    },
    {
      "cell_type": "markdown",
      "metadata": {
        "id": "7oVgE8RZSJNP"
      },
      "source": [
        "Now, we create the union of all distinct letters in the training dataset and test dataset and convert the resulting list into an enumerated dictionary."
      ]
    },
    {
      "cell_type": "code",
      "execution_count": 18,
      "metadata": {
        "id": "aQfneNsmlJI0"
      },
      "outputs": [],
      "source": [
        "vocab_list = list(set(vocab_train[\"vocab\"][0]) | set(vocab_test[\"vocab\"][0]))"
      ]
    },
    {
      "cell_type": "code",
      "execution_count": 19,
      "metadata": {
        "colab": {
          "base_uri": "https://localhost:8080/"
        },
        "id": "_0kRndSvqaKk",
        "outputId": "e2e3d448-9e8e-4de8-8c9a-f5b8f59004cb"
      },
      "outputs": [
        {
          "output_type": "execute_result",
          "data": {
            "text/plain": [
              "{' ': 0,\n",
              " 'ء': 1,\n",
              " 'آ': 2,\n",
              " 'ؤ': 3,\n",
              " 'ئ': 4,\n",
              " 'ا': 5,\n",
              " 'ب': 6,\n",
              " 'ت': 7,\n",
              " 'ث': 8,\n",
              " 'ج': 9,\n",
              " 'ح': 10,\n",
              " 'خ': 11,\n",
              " 'د': 12,\n",
              " 'ذ': 13,\n",
              " 'ر': 14,\n",
              " 'ز': 15,\n",
              " 'س': 16,\n",
              " 'ش': 17,\n",
              " 'ص': 18,\n",
              " 'ض': 19,\n",
              " 'ط': 20,\n",
              " 'ظ': 21,\n",
              " 'ع': 22,\n",
              " 'غ': 23,\n",
              " 'ف': 24,\n",
              " 'ق': 25,\n",
              " 'ل': 26,\n",
              " 'م': 27,\n",
              " 'ن': 28,\n",
              " 'و': 29,\n",
              " 'ى': 30,\n",
              " 'ي': 31,\n",
              " 'ً': 32,\n",
              " 'َ': 33,\n",
              " 'ُ': 34,\n",
              " 'ِ': 35,\n",
              " 'ّ': 36,\n",
              " 'ٔ': 37,\n",
              " 'ٰ': 38,\n",
              " 'ٹ': 39,\n",
              " 'پ': 40,\n",
              " 'چ': 41,\n",
              " 'ڈ': 42,\n",
              " 'ڑ': 43,\n",
              " 'ژ': 44,\n",
              " 'ک': 45,\n",
              " 'گ': 46,\n",
              " 'ں': 47,\n",
              " 'ھ': 48,\n",
              " 'ہ': 49,\n",
              " 'ۂ': 50,\n",
              " 'ی': 51,\n",
              " 'ے': 52}"
            ]
          },
          "metadata": {},
          "execution_count": 19
        }
      ],
      "source": [
        "vocab_dict = {v: k for k, v in enumerate(sorted(vocab_list))}\n",
        "vocab_dict"
      ]
    },
    {
      "cell_type": "code",
      "execution_count": 20,
      "metadata": {
        "id": "npbIbBoLgaFX"
      },
      "outputs": [],
      "source": [
        "vocab_dict[\"|\"] = vocab_dict[\" \"]\n",
        "del vocab_dict[\" \"]"
      ]
    },
    {
      "cell_type": "markdown",
      "metadata": {
        "id": "_9yCWg4Sd0cb"
      },
      "source": [
        "Finally, we also add a padding token that corresponds to CTC's \"*blank token*\". The \"blank token\" is a core component of the CTC algorithm. For more information, please take a look at the \"Alignment\" section [here](https://distill.pub/2017/ctc/)."
      ]
    },
    {
      "cell_type": "code",
      "execution_count": 21,
      "metadata": {
        "colab": {
          "base_uri": "https://localhost:8080/"
        },
        "id": "znF0bNunsjbl",
        "outputId": "6b49557d-206e-4080-b82f-260391fa5be0"
      },
      "outputs": [
        {
          "output_type": "execute_result",
          "data": {
            "text/plain": [
              "57"
            ]
          },
          "metadata": {},
          "execution_count": 21
        }
      ],
      "source": [
        "vocab_dict[\"<unk>\"] = len(vocab_dict)\n",
        "vocab_dict[\"<pad>\"] = len(vocab_dict)\n",
        "vocab_dict[\"<s>\"] = len(vocab_dict)\n",
        "vocab_dict[\"</s>\"] = len(vocab_dict)\n",
        "len(vocab_dict)"
      ]
    },
    {
      "cell_type": "markdown",
      "metadata": {
        "id": "SFPGfet8U5sL"
      },
      "source": [
        "Cool, now our vocabulary is complete and consists of 39 tokens, which means that the linear layer that we will add on top of the pretrained XLS-R checkpoint will have an output dimension of 39."
      ]
    },
    {
      "cell_type": "markdown",
      "metadata": {
        "id": "1CujRgBNVRaD"
      },
      "source": [
        "Let's now save the vocabulary as a json file."
      ]
    },
    {
      "cell_type": "code",
      "execution_count": 23,
      "metadata": {
        "id": "ehyUoh9vk191"
      },
      "outputs": [],
      "source": [
        "import json\n",
        "with open('vocab.json', 'w') as vocab_file:\n",
        "    json.dump(vocab_dict, vocab_file)"
      ]
    },
    {
      "cell_type": "markdown",
      "metadata": {
        "id": "SHJDaKlIVVim"
      },
      "source": [
        "In a final step, we use the json file to load the vocabulary into an instance of the `Wav2Vec2CTCTokenizer` class."
      ]
    },
    {
      "cell_type": "code",
      "execution_count": 24,
      "metadata": {
        "id": "xriFGEWQkO4M"
      },
      "outputs": [],
      "source": [
        "from transformers import Wav2Vec2CTCTokenizer\n",
        "\n",
        "tokenizer = Wav2Vec2CTCTokenizer(\"./vocab.json\", unk_token=\"<unk>\", pad_token=\"<pad>\", word_delimiter_token=\"|\", bos_token = \"<s>\", eos_token = \"</s>\")"
      ]
    },
    {
      "cell_type": "markdown",
      "metadata": {
        "id": "SwQM8lH_GGuP"
      },
      "source": [
        "Great, you can see the just created repository under `https://huggingface.co/<your-username>/wav2vec2-large-xls-r-300m-tr-colab`"
      ]
    },
    {
      "cell_type": "markdown",
      "metadata": {
        "id": "mYcIiR2FQ96i"
      },
      "source": [
        "### Create `Wav2Vec2FeatureExtractor`"
      ]
    },
    {
      "cell_type": "markdown",
      "metadata": {
        "id": "Y6mDEyW719rx"
      },
      "source": [
        "Speech is a continuous signal and to be treated by computers, it first has to be discretized, which is usually called **sampling**. The sampling rate hereby plays an important role in that it defines how many data points of the speech signal are measured per second. Therefore, sampling with a higher sampling rate results in a better approximation of the *real* speech signal but also necessitates more values per second.\n",
        "\n",
        "A pretrained checkpoint expects its input data to have been sampled more or less from the same distribution as the data it was trained on. The same speech signals sampled at two different rates have a very different distribution, *e.g.*, doubling the sampling rate results in data points being twice as long. Thus, \n",
        "before fine-tuning a pretrained checkpoint of an ASR model, it is crucial to verify that the sampling rate of the data that was used to pretrain the model matches the sampling rate of the dataset used to fine-tune the model.\n",
        "\n",
        "XLS-R was pretrained on audio data of [Babel](http://www.reading.ac.uk/AcaDepts/ll/speechlab/babel/r), \n",
        "[Multilingual LibriSpeech (MLS)](https://huggingface.co/datasets/multilingual_librispeech), [Common Voice](https://huggingface.co/datasets/common_voice), [VoxPopuli](https://arxiv.org/abs/2101.00390), and [VoxLingua107](https://arxiv.org/abs/2011.12998) at a sampling rate of 16kHz. Common Voice, in its original form, has a sampling rate of 48kHz, thus we will have to downsample the fine-tuning data to 16kHz in the following.\n",
        "\n"
      ]
    },
    {
      "cell_type": "markdown",
      "metadata": {
        "id": "KuUbPW7oV-B5"
      },
      "source": [
        "A `Wav2Vec2FeatureExtractor` object requires the following parameters to be instantiated:\n",
        "\n",
        "- `feature_size`: Speech models take a sequence of feature vectors as an input. While the length of this sequence obviously varies, the feature size should not. In the case of Wav2Vec2, the feature size is 1 because the model was trained on the raw speech signal ${}^2$.\n",
        "- `sampling_rate`: The sampling rate at which the model is trained on.\n",
        "- `padding_value`: For batched inference, shorter inputs need to be padded with a specific value\n",
        "- `do_normalize`: Whether the input should be *zero-mean-unit-variance* normalized or not. Usually, speech models perform better when normalizing the input\n",
        "- `return_attention_mask`: Whether the model should make use of an `attention_mask` for batched inference. In general, XLS-R models checkpoints should **always** use the `attention_mask`."
      ]
    },
    {
      "cell_type": "code",
      "execution_count": 25,
      "metadata": {
        "id": "kAR0-2KLkopp"
      },
      "outputs": [],
      "source": [
        "from transformers import Wav2Vec2FeatureExtractor\n",
        "\n",
        "feature_extractor = Wav2Vec2FeatureExtractor(feature_size=1, sampling_rate=16000, padding_value=0.0, do_normalize=True, return_attention_mask=True)"
      ]
    },
    {
      "cell_type": "markdown",
      "metadata": {
        "id": "qUETetgqYC3W"
      },
      "source": [
        "Great, XLS-R's feature extraction pipeline is thereby fully defined!\n",
        "\n",
        "For improved user-friendliness, the feature extractor and tokenizer are *wrapped* into a single `Wav2Vec2Processor` class so that one only needs a `model` and `processor` object."
      ]
    },
    {
      "cell_type": "code",
      "execution_count": 26,
      "metadata": {
        "id": "KYZtoW-tlZgl"
      },
      "outputs": [],
      "source": [
        "from transformers import Wav2Vec2Processor,AutoProcessor, AutoModelForCTC\n",
        "\n",
        "processor = Wav2Vec2Processor(feature_extractor=feature_extractor, tokenizer=tokenizer)"
      ]
    },
    {
      "cell_type": "markdown",
      "metadata": {
        "id": "DrKnYuvDIoOO"
      },
      "source": [
        "Next, we can prepare the dataset."
      ]
    },
    {
      "cell_type": "markdown",
      "metadata": {
        "id": "YFmShnl7RE35"
      },
      "source": [
        "### Preprocess Data\n",
        "\n",
        "So far, we have not looked at the actual values of the speech signal but just the transcription. In addition to `sentence`, our datasets include two more column names `path` and `audio`. `path` states the absolute path of the audio file. Let's take a look.\n"
      ]
    },
    {
      "cell_type": "markdown",
      "metadata": {
        "id": "T6ndIjHGFp0W"
      },
      "source": [
        "XLS-R expects the input in the format of a 1-dimensional array of 16 kHz. This means that the audio file has to be loaded and resampled.\n",
        "\n",
        " Thankfully, `datasets` does this automatically by calling the other column `audio`. Let try it out. "
      ]
    },
    {
      "cell_type": "markdown",
      "metadata": {
        "id": "WUUTgI1bGHW-"
      },
      "source": [
        "Great, we can see that the audio file has automatically been loaded. This is thanks to the new [`\"Audio\"` feature](https://huggingface.co/docs/datasets/package_reference/main_classes.html?highlight=audio#datasets.Audio) introduced in `datasets == 4.13.3`, which loads and resamples audio files on-the-fly upon calling.\n",
        "\n",
        "In the example above we can see that the audio data is loaded with a sampling rate of 48kHz whereas 16kHz are expected by the model. We can set the audio feature to the correct sampling rate by making use of [`cast_column`](https://huggingface.co/docs/datasets/package_reference/main_classes.html?highlight=cast_column#datasets.DatasetDict.cast_column):"
      ]
    },
    {
      "cell_type": "code",
      "execution_count": 29,
      "metadata": {
        "id": "rrv65aj7G95i"
      },
      "outputs": [],
      "source": [
        "common_voice_train = common_voice_train.cast_column(\"path\", Audio(sampling_rate=16_000))\n",
        "common_voice_test = common_voice_test.cast_column(\"path\", Audio(sampling_rate=16_000))"
      ]
    },
    {
      "cell_type": "markdown",
      "metadata": {
        "id": "PcnO4x-NGBEi"
      },
      "source": [
        "Let's take a look at `\"audio\"` again."
      ]
    },
    {
      "cell_type": "code",
      "execution_count": 30,
      "metadata": {
        "colab": {
          "base_uri": "https://localhost:8080/"
        },
        "id": "aKtkc1o_HWHC",
        "outputId": "41f7071a-7a05-493d-cf3e-96708c4fec59"
      },
      "outputs": [
        {
          "output_type": "execute_result",
          "data": {
            "text/plain": [
              "{'array': array([ 0.000000e+00,  0.000000e+00,  0.000000e+00, ...,  9.434595e-06,\n",
              "        -3.136347e-04, -3.876609e-04], dtype=float32),\n",
              " 'path': 'Data/ur/clips/common_voice_ur_26630004.mp3',\n",
              " 'sampling_rate': 16000}"
            ]
          },
          "metadata": {},
          "execution_count": 30
        }
      ],
      "source": [
        "common_voice_train[0][\"path\"]"
      ]
    },
    {
      "cell_type": "markdown",
      "metadata": {
        "id": "SOckzFd4Mbzq"
      },
      "source": [
        "This seemed to have worked! Let's listen to a couple of audio files to better understand the dataset and verify that the audio was correctly loaded. \n",
        "\n",
        "**Note**: *You can click the following cell a couple of times to listen to different speech samples.*"
      ]
    },
    {
      "cell_type": "code",
      "execution_count": 31,
      "metadata": {
        "colab": {
          "base_uri": "https://localhost:8080/",
          "height": 93
        },
        "id": "dueM6U7Ev0OA",
        "outputId": "9d0fce47-1d84-4f67-d190-9ec58f0d7c0b"
      },
      "outputs": [
        {
          "output_type": "stream",
          "name": "stdout",
          "text": [
            "ناشتے کے بعد سب تیار ہو گئے\n"
          ]
        },
        {
          "output_type": "execute_result",
          "data": {
            "text/plain": [
              "<IPython.lib.display.Audio object>"
            ],
            "text/html": [
              "\n",
              "                <audio controls=\"controls\" autoplay=\"autoplay\">\n",
              "                    <source src=\"data:audio/wav;base64,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\" type=\"audio/wav\" />\n",
              "                    Your browser does not support the audio element.\n",
              "                </audio>\n",
              "              "
            ]
          },
          "metadata": {},
          "execution_count": 31
        }
      ],
      "source": [
        "import IPython.display as ipd\n",
        "import numpy as np\n",
        "import random\n",
        "\n",
        "rand_int = random.randint(0, len(common_voice_train)-1)\n",
        "\n",
        "print(common_voice_train[rand_int][\"sentence\"])\n",
        "ipd.Audio(data=common_voice_train[rand_int][\"path\"][\"array\"], autoplay=True, rate=16000)"
      ]
    },
    {
      "cell_type": "markdown",
      "metadata": {
        "id": "gY8m3vARHYTa"
      },
      "source": [
        "It seems like the data is now correctly loaded and resampled. "
      ]
    },
    {
      "cell_type": "markdown",
      "metadata": {
        "id": "1MaL9J2dNVtG"
      },
      "source": [
        "It can be heard, that the speakers change along with their speaking rate, accent, and background environment, etc. Overall, the recordings sound acceptably clear though, which is to be expected from a crowd-sourced read speech corpus.\n",
        "\n",
        "Let's do a final check that the data is correctly prepared, by printing the shape of the speech input, its transcription, and the corresponding sampling rate.\n",
        "\n",
        "**Note**: *You can click the following cell a couple of times to verify multiple samples.*"
      ]
    },
    {
      "cell_type": "code",
      "execution_count": 32,
      "metadata": {
        "colab": {
          "base_uri": "https://localhost:8080/"
        },
        "id": "1Po2g7YPuRTx",
        "outputId": "ee7c2161-39c7-4782-ed01-f799ff8800ef"
      },
      "outputs": [
        {
          "output_type": "stream",
          "name": "stdout",
          "text": [
            "Target text: دنیا کے فیصلے دیگر قومیں کررہی ہیں\n",
            "Input array shape: (67392,)\n",
            "Sampling rate: 16000\n"
          ]
        }
      ],
      "source": [
        "rand_int = random.randint(0, len(common_voice_train)-1)\n",
        "\n",
        "print(\"Target text:\", common_voice_train[rand_int][\"sentence\"])\n",
        "print(\"Input array shape:\", common_voice_train[rand_int][\"path\"][\"array\"].shape)\n",
        "print(\"Sampling rate:\", common_voice_train[rand_int][\"path\"][\"sampling_rate\"])"
      ]
    },
    {
      "cell_type": "markdown",
      "metadata": {
        "id": "M9teZcSwOBJ4"
      },
      "source": [
        "Good! Everything looks fine - the data is a 1-dimensional array, the sampling rate always corresponds to 16kHz, and the target text is normalized."
      ]
    },
    {
      "cell_type": "markdown",
      "metadata": {
        "id": "k3Pbn5WvOYZF"
      },
      "source": [
        "Finally, we can leverage `Wav2Vec2Processor` to process the data to the format expected by `Wav2Vec2ForCTC` for training. To do so let's make use of Dataset's [`map(...)`](https://huggingface.co/docs/datasets/package_reference/main_classes.html?highlight=map#datasets.DatasetDict.map) function.\n",
        "\n",
        "First, we load and resample the audio data, simply by calling `batch[\"audio\"]`.\n",
        "Second, we extract the `input_values` from the loaded audio file. In our case, the `Wav2Vec2Processor` only normalizes the data. For other speech models, however, this step can include more complex feature extraction, such as [Log-Mel feature extraction](https://en.wikipedia.org/wiki/Mel-frequency_cepstrum). \n",
        "Third, we encode the transcriptions to label ids.\n",
        "\n",
        "**Note**: This mapping function is a good example of how the `Wav2Vec2Processor` class should be used. In \"normal\" context, calling `processor(...)` is redirected to `Wav2Vec2FeatureExtractor`'s call method. When wrapping the processor into the `as_target_processor` context, however, the same method is redirected to `Wav2Vec2CTCTokenizer`'s call method.\n",
        "For more information please check the [docs](https://huggingface.co/transformers/master/model_doc/wav2vec2.html#transformers.Wav2Vec2Processor.__call__)."
      ]
    },
    {
      "cell_type": "code",
      "execution_count": 33,
      "metadata": {
        "id": "eJY7I0XAwe9p"
      },
      "outputs": [],
      "source": [
        "def prepare_dataset(batch):\n",
        "    audio = batch[\"path\"]\n",
        "\n",
        "    # batched output is \"un-batched\"\n",
        "    batch[\"input_values\"] = processor(audio[\"array\"], sampling_rate=audio[\"sampling_rate\"]).input_values[0]\n",
        "    batch[\"input_length\"] = len(batch[\"input_values\"])\n",
        "    \n",
        "    with processor.as_target_processor():\n",
        "        batch[\"labels\"] = processor(batch[\"sentence\"]).input_ids\n",
        "    return batch"
      ]
    },
    {
      "cell_type": "markdown",
      "metadata": {
        "id": "q6Pg_WR3OGAP"
      },
      "source": [
        "Let's apply the data preparation function to all examples."
      ]
    },
    {
      "cell_type": "code",
      "execution_count": 34,
      "metadata": {
        "colab": {
          "base_uri": "https://localhost:8080/",
          "height": 81,
          "referenced_widgets": [
            "1149c8d876b8434db67f23f8d0cf4e54",
            "acdbfc9bae2f40689944317666bd33ba",
            "80cbdf747dfe45939c266bf31e7042d8",
            "a19d35352882473e88e7cd9900f04b18",
            "5bd22dfd12084f1381137dc9bf0d26eb",
            "5411fe5b9c994caeacb21abd6bd82374",
            "c80c0d69b86f470d8f5e9922d696404d",
            "b58e9a584f734e718a857cdbdb671cba",
            "e21e3d3ba70147b09dd025986c88264d",
            "e11b5cd77825455587255870b5bfbd52",
            "7888cf9b3dd04c6e86be0cc691915063",
            "7d780bbaf63c4398bcb4cdd7b7a420f8",
            "005bfde85ca84ac2baeecca8b29e8128",
            "be3bfc1639014762af07c228030d2f49",
            "2e52b247ac7140e1b009141a20e0e4e0",
            "9be9f0c4290a446c883bfce80da460fe",
            "3bd607444dc6462089423e0044c49e16",
            "8c4a4c3b2c4441b1b945d249b2c3d765",
            "5379091c1a344d9382b4fd50e675b11e",
            "6b75b166f7fc4a71b710f6be726a955b",
            "9d951e2829464ae3bcbd596352e3af2d",
            "e6ae489f1dcf48eb9f154dfc4a6e38a7"
          ]
        },
        "id": "-np9xYK-wl8q",
        "outputId": "1b0dfd2f-1eb3-4c45-c0cf-34bcf6976093"
      },
      "outputs": [
        {
          "output_type": "display_data",
          "data": {
            "text/plain": [
              "0ex [00:00, ?ex/s]"
            ],
            "application/vnd.jupyter.widget-view+json": {
              "version_major": 2,
              "version_minor": 0,
              "model_id": "1149c8d876b8434db67f23f8d0cf4e54"
            }
          },
          "metadata": {}
        },
        {
          "output_type": "display_data",
          "data": {
            "text/plain": [
              "0ex [00:00, ?ex/s]"
            ],
            "application/vnd.jupyter.widget-view+json": {
              "version_major": 2,
              "version_minor": 0,
              "model_id": "7d780bbaf63c4398bcb4cdd7b7a420f8"
            }
          },
          "metadata": {}
        }
      ],
      "source": [
        "common_voice_train = common_voice_train.map(prepare_dataset, remove_columns=common_voice_train.column_names)\n",
        "common_voice_test = common_voice_test.map(prepare_dataset, remove_columns=common_voice_test.column_names)"
      ]
    },
    {
      "cell_type": "markdown",
      "metadata": {
        "id": "nKcEWHvKI1by"
      },
      "source": [
        "**Note**: Currently `datasets` make use of [`torchaudio`](https://pytorch.org/audio/stable/index.html) and [`librosa`](https://librosa.org/doc/latest/index.html) for audio loading and resampling. If you wish to implement your own costumized data loading/sampling, feel free to just make use of the `\"path\"` column instead and disregard the `\"audio\"` column."
      ]
    },
    {
      "cell_type": "markdown",
      "metadata": {
        "id": "24CxHd5ewI4T"
      },
      "source": [
        "Long input sequences require a lot of memory. XLS-R is based on `self-attention` the memory requirement scales quadratically with the input length for long input sequences (*cf.* with [this](https://www.reddit.com/r/MachineLearning/comments/genjvb/d_why_is_the_maximum_input_sequence_length_of/) reddit post). In case this demo crashes with an \"Out-of-memory\" error for you, you might want to uncomment the following lines to filter all sequences that are longer than 5 seconds for training."
      ]
    },
    {
      "cell_type": "code",
      "execution_count": 35,
      "metadata": {
        "id": "tdHfbUJ_09iA"
      },
      "outputs": [],
      "source": [
        "#max_input_length_in_sec = 5.0\n",
        "#common_voice_train = common_voice_train.filter(lambda x: x < max_input_length_in_sec * processor.feature_extractor.sampling_rate, input_columns=[\"input_length\"])"
      ]
    },
    {
      "cell_type": "markdown",
      "metadata": {
        "id": "1ZWDCCKqwcfS"
      },
      "source": [
        "Awesome, now we are ready to start training!"
      ]
    },
    {
      "cell_type": "markdown",
      "metadata": {
        "id": "gYlQkKVoRUos"
      },
      "source": [
        "## Training\n",
        "\n",
        "The data is processed so that we are ready to start setting up the training pipeline. We will make use of 🤗's [Trainer](https://huggingface.co/transformers/master/main_classes/trainer.html?highlight=trainer) for which we essentially need to do the following:\n",
        "\n",
        "- Define a data collator. In contrast to most NLP models, XLS-R has a much larger input length than output length. *E.g.*, a sample of input length 50000 has an output length of no more than 100. Given the large input sizes, it is much more efficient to pad the training batches dynamically meaning that all training samples should only be padded to the longest sample in their batch and not the overall longest sample. Therefore, fine-tuning XLS-R requires a special padding data collator, which we will define below\n",
        "\n",
        "- Evaluation metric. During training, the model should be evaluated on the word error rate. We should define a `compute_metrics` function accordingly\n",
        "\n",
        "- Load a pretrained checkpoint. We need to load a pretrained checkpoint and configure it correctly for training.\n",
        "\n",
        "- Define the training configuration.\n",
        "\n",
        "After having fine-tuned the model, we will correctly evaluate it on the test data and verify that it has indeed learned to correctly transcribe speech."
      ]
    },
    {
      "cell_type": "markdown",
      "metadata": {
        "id": "Slk403unUS91"
      },
      "source": [
        "### Set-up Trainer\n",
        "\n",
        "Let's start by defining the data collator. The code for the data collator was copied from [this example](https://github.com/huggingface/transformers/blob/7e61d56a45c19284cfda0cee8995fb552f6b1f4e/examples/pytorch/speech-recognition/run_speech_recognition_ctc.py#L219).\n",
        "\n",
        "Without going into too many details, in contrast to the common data collators, this data collator treats the `input_values` and `labels` differently and thus applies to separate padding functions on them (again making use of XLS-R processor's context manager). This is necessary because in speech input and output are of different modalities meaning that they should not be treated by the same padding function.\n",
        "Analogous to the common data collators, the padding tokens in the labels with `-100` so that those tokens are **not** taken into account when computing the loss."
      ]
    },
    {
      "cell_type": "code",
      "execution_count": 36,
      "metadata": {
        "id": "tborvC9hx88e"
      },
      "outputs": [],
      "source": [
        "import torch\n",
        "\n",
        "from dataclasses import dataclass, field\n",
        "from typing import Any, Dict, List, Optional, Union\n",
        "\n",
        "@dataclass\n",
        "class DataCollatorCTCWithPadding:\n",
        "    \"\"\"\n",
        "    Data collator that will dynamically pad the inputs received.\n",
        "    Args:\n",
        "        processor (:class:`~transformers.Wav2Vec2Processor`)\n",
        "            The processor used for proccessing the data.\n",
        "        padding (:obj:`bool`, :obj:`str` or :class:`~transformers.tokenization_utils_base.PaddingStrategy`, `optional`, defaults to :obj:`True`):\n",
        "            Select a strategy to pad the returned sequences (according to the model's padding side and padding index)\n",
        "            among:\n",
        "            * :obj:`True` or :obj:`'longest'`: Pad to the longest sequence in the batch (or no padding if only a single\n",
        "              sequence if provided).\n",
        "            * :obj:`'max_length'`: Pad to a maximum length specified with the argument :obj:`max_length` or to the\n",
        "              maximum acceptable input length for the model if that argument is not provided.\n",
        "            * :obj:`False` or :obj:`'do_not_pad'` (default): No padding (i.e., can output a batch with sequences of\n",
        "              different lengths).\n",
        "    \"\"\"\n",
        "\n",
        "    processor: Wav2Vec2Processor\n",
        "    padding: Union[bool, str] = True\n",
        "\n",
        "    def __call__(self, features: List[Dict[str, Union[List[int], torch.Tensor]]]) -> Dict[str, torch.Tensor]:\n",
        "        # split inputs and labels since they have to be of different lenghts and need\n",
        "        # different padding methods\n",
        "        input_features = [{\"input_values\": feature[\"input_values\"]} for feature in features]\n",
        "        label_features = [{\"input_ids\": feature[\"labels\"]} for feature in features]\n",
        "\n",
        "        batch = self.processor.pad(\n",
        "            input_features,\n",
        "            padding=self.padding,\n",
        "            return_tensors=\"pt\",\n",
        "        )\n",
        "        with self.processor.as_target_processor():\n",
        "            labels_batch = self.processor.pad(\n",
        "                label_features,\n",
        "                padding=self.padding,\n",
        "                return_tensors=\"pt\",\n",
        "            )\n",
        "\n",
        "        # replace padding with -100 to ignore loss correctly\n",
        "        labels = labels_batch[\"input_ids\"].masked_fill(labels_batch.attention_mask.ne(1), -100)\n",
        "\n",
        "        batch[\"labels\"] = labels\n",
        "\n",
        "        return batch"
      ]
    },
    {
      "cell_type": "code",
      "execution_count": 37,
      "metadata": {
        "id": "lbQf5GuZyQ4_"
      },
      "outputs": [],
      "source": [
        "data_collator = DataCollatorCTCWithPadding(processor=processor, padding=True)"
      ]
    },
    {
      "cell_type": "markdown",
      "metadata": {
        "id": "xO-Zdj-5cxXp"
      },
      "source": [
        "Next, the evaluation metric is defined. As mentioned earlier, the \n",
        "predominant metric in ASR is the word error rate (WER), hence we will use it in this notebook as well."
      ]
    },
    {
      "cell_type": "code",
      "execution_count": 38,
      "metadata": {
        "id": "9Xsux2gmyXso"
      },
      "outputs": [],
      "source": [
        "wer_metric = load_metric(\"wer\")\n",
        "cer_metric = load_metric(\"cer\")"
      ]
    },
    {
      "cell_type": "markdown",
      "metadata": {
        "id": "E1qZU5p-deqB"
      },
      "source": [
        "The model will return a sequence of logit vectors:\n",
        "$\\mathbf{y}_1, \\ldots, \\mathbf{y}_m$ with $\\mathbf{y}_1 = f_{\\theta}(x_1, \\ldots, x_n)[0]$ and $n >> m$.\n",
        "\n",
        "A logit vector $\\mathbf{y}_1$ contains the log-odds for each word in the vocabulary we defined earlier, thus $\\text{len}(\\mathbf{y}_i) =$ `config.vocab_size`. We are interested in the most likely prediction of the model and thus take the `argmax(...)` of the logits. Also, we transform the encoded labels back to the original string by replacing `-100` with the `pad_token_id` and decoding the ids while making sure that consecutive tokens are **not** grouped to the same token in CTC style ${}^1$."
      ]
    },
    {
      "cell_type": "code",
      "execution_count": 39,
      "metadata": {
        "id": "1XZ-kjweyTy_"
      },
      "outputs": [],
      "source": [
        "def compute_metrics(pred):\n",
        "    pred_logits = pred.predictions\n",
        "    pred_ids = np.argmax(pred_logits, axis=-1)\n",
        "\n",
        "    pred.label_ids[pred.label_ids == -100] = processor.tokenizer.pad_token_id\n",
        "\n",
        "    pred_str = processor.batch_decode(pred_ids)\n",
        "    # we do not want to group tokens when computing the metrics\n",
        "    label_str = processor.batch_decode(pred.label_ids, group_tokens=False)\n",
        "\n",
        "    wer = wer_metric.compute(predictions=pred_str, references=label_str)\n",
        "    cer = cer_metric.compute(predictions=pred_str, references=label_str)\n",
        "    return {\"wer\" : wer, \"cer\" : cer}"
      ]
    },
    {
      "cell_type": "markdown",
      "metadata": {
        "id": "Xmgrx4bRwLIH"
      },
      "source": [
        "Now, we can load the pretrained checkpoint of [Wav2Vec2-XLS-R-300M](https://huggingface.co/facebook/wav2vec2-xls-r-300m). The tokenizer's `pad_token_id` must be to define the model's `pad_token_id` or in the case of `Wav2Vec2ForCTC` also CTC's *blank token* ${}^2$. To save GPU memory, we enable PyTorch's [gradient checkpointing](https://pytorch.org/docs/stable/checkpoint.html) and also set the loss reduction to \"*mean*\".\n",
        "\n",
        "Because the dataset is quite small (~6h of training data) and because Common Voice is quite noisy, fine-tuning Facebook's [wav2vec2-xls-r-300m checkpoint](https://huggingface.co/facebook/wav2vec2-xls-r-300m) seems to require some hyper-parameter tuning. Therefore, I had to play around a bit with different values for dropout, [SpecAugment](https://arxiv.org/abs/1904.08779)'s masking dropout rate, layer dropout, and the learning rate until training seemed to be stable enough. \n",
        "\n",
        "**Note**: When using this notebook to train XLS-R on another language of Common Voice those hyper-parameter settings might not work very well. Feel free to adapt those depending on your use case. "
      ]
    },
    {
      "cell_type": "code",
      "execution_count": 41,
      "metadata": {
        "id": "e7cqAWIayn6w",
        "colab": {
          "base_uri": "https://localhost:8080/"
        },
        "outputId": "be39113a-c3aa-44b9-d154-90c8b6439717"
      },
      "outputs": [
        {
          "output_type": "stream",
          "name": "stderr",
          "text": [
            "Some weights of the model checkpoint at facebook/wav2vec2-xls-r-300m were not used when initializing Wav2Vec2ForCTC: ['quantizer.weight_proj.weight', 'quantizer.weight_proj.bias', 'quantizer.codevectors', 'project_hid.weight', 'project_q.weight', 'project_q.bias', 'project_hid.bias']\n",
            "- This IS expected if you are initializing Wav2Vec2ForCTC from the checkpoint of a model trained on another task or with another architecture (e.g. initializing a BertForSequenceClassification model from a BertForPreTraining model).\n",
            "- This IS NOT expected if you are initializing Wav2Vec2ForCTC from the checkpoint of a model that you expect to be exactly identical (initializing a BertForSequenceClassification model from a BertForSequenceClassification model).\n",
            "Some weights of Wav2Vec2ForCTC were not initialized from the model checkpoint at facebook/wav2vec2-xls-r-300m and are newly initialized: ['lm_head.bias', 'lm_head.weight']\n",
            "You should probably TRAIN this model on a down-stream task to be able to use it for predictions and inference.\n"
          ]
        }
      ],
      "source": [
        "from transformers import Wav2Vec2ForCTC\n",
        "\n",
        "model = Wav2Vec2ForCTC.from_pretrained(\n",
        "    \"facebook/wav2vec2-xls-r-300m\", \n",
        "    attention_dropout=0.1,\n",
        "    layerdrop=0.0,\n",
        "    feat_proj_dropout=0.0,\n",
        "    mask_time_prob=0.75,\n",
        "    mask_time_length=10,\n",
        "    mask_feature_prob=0.25,\n",
        "    mask_feature_length=64,\n",
        "    ctc_loss_reduction=\"mean\", \n",
        "    pad_token_id=processor.tokenizer.pad_token_id,\n",
        "    vocab_size=len(processor.tokenizer),\n",
        ")"
      ]
    },
    {
      "cell_type": "markdown",
      "metadata": {
        "id": "1DwR3XLSzGDD"
      },
      "source": [
        "The first component of XLS-R consists of a stack of CNN layers that are used to extract acoustically meaningful - but contextually independent - features from the raw speech signal. This part of the model has already been sufficiently trained during pretraining and as stated in the [paper](https://arxiv.org/pdf/2006.13979.pdf) does not need to be fine-tuned anymore. \n",
        "Thus, we can set the `requires_grad` to `False` for all parameters of the *feature extraction* part."
      ]
    },
    {
      "cell_type": "code",
      "execution_count": 42,
      "metadata": {
        "id": "oGI8zObtZ3V0",
        "colab": {
          "base_uri": "https://localhost:8080/"
        },
        "outputId": "5972978a-f8c8-4ff8-c6f2-41113ef3c56f"
      },
      "outputs": [
        {
          "output_type": "stream",
          "name": "stderr",
          "text": [
            "/usr/local/lib/python3.7/dist-packages/transformers/models/wav2vec2/modeling_wav2vec2.py:1712: FutureWarning: The method `freeze_feature_extractor` is deprecated and will be removed in Transformers v5.Please use the equivalent `freeze_feature_encoder` method instead.\n",
            "  FutureWarning,\n"
          ]
        }
      ],
      "source": [
        "model.freeze_feature_extractor()"
      ]
    },
    {
      "cell_type": "markdown",
      "metadata": {
        "id": "lD4aGhQM0K-D"
      },
      "source": [
        "In a final step, we define all parameters related to training. \n",
        "To give more explanation on some of the parameters:\n",
        "- `group_by_length` makes training more efficient by grouping training samples of similar input length into one batch. This can significantly speed up training time by heavily reducing the overall number of useless padding tokens that are passed through the model\n",
        "- `learning_rate` and `weight_decay` were heuristically tuned until fine-tuning has become stable. Note that those parameters strongly depend on the Common Voice dataset and might be suboptimal for other speech datasets.\n",
        "\n",
        "For more explanations on other parameters, one can take a look at the [docs](https://huggingface.co/transformers/master/main_classes/trainer.html?highlight=trainer#trainingarguments).\n",
        "\n",
        "During training, a checkpoint will be uploaded asynchronously to the hub every 400 training steps. It allows you to also play around with the demo widget even while your model is still training.\n",
        "\n",
        "**Note**: If one does not want to upload the model checkpoints to the hub, simply set `push_to_hub=False`."
      ]
    },
    {
      "cell_type": "code",
      "source": [
        "import os\n",
        "os.environ['MLFLOW_TRACKING_USERNAME'] = \"kingabzpro\"\n",
        "os.environ['MLFLOW_TRACKING_PASSWORD'] = \"\""
      ],
      "metadata": {
        "id": "Xzn6034AOaUT"
      },
      "execution_count": 43,
      "outputs": []
    },
    {
      "cell_type": "code",
      "execution_count": 45,
      "metadata": {
        "id": "KbeKSV7uzGPP"
      },
      "outputs": [],
      "source": [
        "from transformers import TrainingArguments\n",
        "\n",
        "training_args = TrainingArguments(\n",
        "  output_dir=\"Model\",\n",
        "  group_by_length=True,\n",
        "  per_device_train_batch_size=16,\n",
        "  gradient_accumulation_steps=2,\n",
        "  evaluation_strategy=\"steps\",\n",
        "  num_train_epochs=30,\n",
        "  gradient_checkpointing=True,\n",
        "  fp16=False,\n",
        "  save_steps=300,\n",
        "  eval_steps=300,\n",
        "  logging_steps=300,\n",
        "  learning_rate=1e-4,\n",
        "  warmup_steps=1000,\n",
        "  save_total_limit=1,\n",
        ")"
      ]
    },
    {
      "cell_type": "markdown",
      "metadata": {
        "id": "OsW-WZcL1ZtN"
      },
      "source": [
        "Now, all instances can be passed to Trainer and we are ready to start training!"
      ]
    },
    {
      "cell_type": "code",
      "source": [
        "from transformers.integrations import TensorBoardCallback,MLflowCallback"
      ],
      "metadata": {
        "id": "zp7scktZJIBd"
      },
      "execution_count": 46,
      "outputs": []
    },
    {
      "cell_type": "code",
      "execution_count": 47,
      "metadata": {
        "colab": {
          "base_uri": "https://localhost:8080/"
        },
        "id": "rY7vBmFCPFgC",
        "outputId": "b80818ca-d083-408d-a382-0b4902107815"
      },
      "outputs": [
        {
          "output_type": "stream",
          "name": "stderr",
          "text": [
            "You are adding a <class 'transformers.integrations.MLflowCallback'> to the callbacks of this Trainer, but there is already one. The currentlist of callbacks is\n",
            ":DefaultFlowCallback\n",
            "MLflowCallback\n",
            "TensorBoardCallback\n"
          ]
        }
      ],
      "source": [
        "from transformers import Trainer\n",
        "\n",
        "\n",
        "trainer = Trainer(\n",
        "    model=model,\n",
        "    data_collator=data_collator,\n",
        "    args=training_args,\n",
        "    compute_metrics=compute_metrics,\n",
        "    train_dataset=common_voice_train,\n",
        "    eval_dataset=common_voice_test,\n",
        "    tokenizer=processor.feature_extractor,\n",
        "    callbacks=[MLflowCallback]\n",
        ")"
      ]
    },
    {
      "cell_type": "code",
      "source": [
        "trainer.get_optimizer_cls_and_kwargs(training_args)"
      ],
      "metadata": {
        "colab": {
          "base_uri": "https://localhost:8080/"
        },
        "id": "Bq9tPZVg92pW",
        "outputId": "0f02a82a-f9e5-4dab-8711-7d0151423d7c"
      },
      "execution_count": 48,
      "outputs": [
        {
          "output_type": "execute_result",
          "data": {
            "text/plain": [
              "(transformers.optimization.AdamW,\n",
              " {'betas': (0.9, 0.999), 'eps': 1e-08, 'lr': 0.0001})"
            ]
          },
          "metadata": {},
          "execution_count": 48
        }
      ]
    },
    {
      "cell_type": "code",
      "source": [
        "trainer.remove_callback(TensorBoardCallback)"
      ],
      "metadata": {
        "id": "gUZbbfa3MWfW"
      },
      "execution_count": 49,
      "outputs": []
    },
    {
      "cell_type": "markdown",
      "metadata": {
        "id": "UoXBx1JAA0DX"
      },
      "source": [
        "\n",
        "\n",
        "---\n",
        "\n",
        "${}^1$ To allow models to become independent of the speaker rate, in CTC, consecutive tokens that are identical are simply grouped as a single token. However, the encoded labels should not be grouped when decoding since they don't correspond to the predicted tokens of the model, which is why the `group_tokens=False` parameter has to be passed. If we wouldn't pass this parameter a word like `\"hello\"` would incorrectly be encoded, and decoded as `\"helo\"`.\n",
        "\n",
        "${}^2$ The blank token allows the model to predict a word, such as `\"hello\"` by forcing it to insert the blank token between the two l's. A CTC-conform prediction of `\"hello\"` of our model would be `[PAD] [PAD] \"h\" \"e\" \"e\" \"l\" \"l\" [PAD] \"l\" \"o\" \"o\" [PAD]`."
      ]
    },
    {
      "cell_type": "markdown",
      "metadata": {
        "id": "rpvZHM1xReIW"
      },
      "source": [
        "### Training"
      ]
    },
    {
      "cell_type": "code",
      "source": [
        "import mlflow"
      ],
      "metadata": {
        "id": "rWlS5WsqIWPF"
      },
      "execution_count": 44,
      "outputs": []
    },
    {
      "cell_type": "code",
      "source": [
        "# mlflow.delete_run(\"d4caf8e76ce14040b0c8ccf3f306f89d\")"
      ],
      "metadata": {
        "id": "Ionf-3KGuzXY"
      },
      "execution_count": 56,
      "outputs": []
    },
    {
      "cell_type": "code",
      "source": [
        "# mlflow.set_experiment(experiment_id=0)\n",
        "# with mlflow.start_run(run_id=\"2a28fb02c3ce4670997d5303f0de7118\") as run:\n",
        "#     mlflow.set_tag('mlflow.source.git.commit', \"d316332f0def9d679491b81b2b35aee7bbf21457\") "
      ],
      "metadata": {
        "id": "dBgk8Uaw1BqC"
      },
      "execution_count": 52,
      "outputs": []
    },
    {
      "cell_type": "code",
      "source": [
        "# mlflow.end_run()"
      ],
      "metadata": {
        "id": "ccHvQwNw1taG"
      },
      "execution_count": 58,
      "outputs": []
    },
    {
      "cell_type": "code",
      "execution_count": null,
      "metadata": {
        "colab": {
          "base_uri": "https://localhost:8080/",
          "height": 717
        },
        "id": "9fRr9TG5pGBl",
        "outputId": "ab7bf491-44e6-4dba-c42f-af33e6b56f06"
      },
      "outputs": [
        {
          "metadata": {
            "tags": null
          },
          "name": "stderr",
          "output_type": "stream",
          "text": [
            "The following columns in the training set  don't have a corresponding argument in `Wav2Vec2ForCTC.forward` and have been ignored: input_length. If input_length are not expected by `Wav2Vec2ForCTC.forward`,  you can safely ignore this message.\n",
            "***** Running training *****\n",
            "  Num examples = 2080\n",
            "  Num Epochs = 30\n",
            "  Instantaneous batch size per device = 16\n",
            "  Total train batch size (w. parallel, distributed & accumulation) = 32\n",
            "  Gradient Accumulation steps = 2\n",
            "  Total optimization steps = 1950\n"
          ]
        },
        {
          "data": {
            "text/html": [
              "\n",
              "    <div>\n",
              "      \n",
              "      <progress value='473' max='1950' style='width:300px; height:20px; vertical-align: middle;'></progress>\n",
              "      [ 473/1950 1:36:01 < 5:01:08, 0.08 it/s, Epoch 7.26/30]\n",
              "    </div>\n",
              "    <table border=\"1\" class=\"dataframe\">\n",
              "  <thead>\n",
              " <tr style=\"text-align: left;\">\n",
              "      <th>Step</th>\n",
              "      <th>Training Loss</th>\n",
              "      <th>Validation Loss</th>\n",
              "      <th>Wer</th>\n",
              "      <th>Cer</th>\n",
              "    </tr>\n",
              "  </thead>\n",
              "  <tbody>\n",
              "    <tr>\n",
              "      <td>300</td>\n",
              "      <td>10.238500</td>\n",
              "      <td>4.067767</td>\n",
              "      <td>1.000000</td>\n",
              "      <td>1.000000</td>\n",
              "    </tr>\n",
              "  </tbody>\n",
              "</table><p>"
            ],
            "text/plain": [
              "<IPython.core.display.HTML object>"
            ]
          },
          "metadata": {},
          "output_type": "display_data"
        },
        {
          "metadata": {
            "tags": null
          },
          "name": "stderr",
          "output_type": "stream",
          "text": [
            "The following columns in the evaluation set  don't have a corresponding argument in `Wav2Vec2ForCTC.forward` and have been ignored: input_length. If input_length are not expected by `Wav2Vec2ForCTC.forward`,  you can safely ignore this message.\n",
            "***** Running Evaluation *****\n",
            "  Num examples = 341\n",
            "  Batch size = 8\n",
            "Saving model checkpoint to Model/checkpoint-300\n",
            "Configuration saved in Model/checkpoint-300/config.json\n",
            "Model weights saved in Model/checkpoint-300/pytorch_model.bin\n",
            "Feature extractor saved in Model/checkpoint-300/preprocessor_config.json\n"
          ]
        },
        {
          "output_type": "display_data",
          "data": {
            "text/plain": [
              "<IPython.core.display.HTML object>"
            ],
            "text/html": [
              "\n",
              "    <div>\n",
              "      \n",
              "      <progress value='862' max='1950' style='width:300px; height:20px; vertical-align: middle;'></progress>\n",
              "      [ 862/1950 2:54:51 < 3:41:13, 0.08 it/s, Epoch 13.25/30]\n",
              "    </div>\n",
              "    <table border=\"1\" class=\"dataframe\">\n",
              "  <thead>\n",
              " <tr style=\"text-align: left;\">\n",
              "      <th>Step</th>\n",
              "      <th>Training Loss</th>\n",
              "      <th>Validation Loss</th>\n",
              "      <th>Wer</th>\n",
              "      <th>Cer</th>\n",
              "    </tr>\n",
              "  </thead>\n",
              "  <tbody>\n",
              "    <tr>\n",
              "      <td>300</td>\n",
              "      <td>10.238500</td>\n",
              "      <td>4.067767</td>\n",
              "      <td>1.000000</td>\n",
              "      <td>1.000000</td>\n",
              "    </tr>\n",
              "    <tr>\n",
              "      <td>600</td>\n",
              "      <td>3.347700</td>\n",
              "      <td>3.204602</td>\n",
              "      <td>1.000000</td>\n",
              "      <td>1.000000</td>\n",
              "    </tr>\n",
              "  </tbody>\n",
              "</table><p>"
            ]
          },
          "metadata": {}
        },
        {
          "output_type": "stream",
          "name": "stderr",
          "text": [
            "The following columns in the evaluation set  don't have a corresponding argument in `Wav2Vec2ForCTC.forward` and have been ignored: input_length. If input_length are not expected by `Wav2Vec2ForCTC.forward`,  you can safely ignore this message.\n",
            "***** Running Evaluation *****\n",
            "  Num examples = 341\n",
            "  Batch size = 8\n",
            "Saving model checkpoint to Model/checkpoint-600\n",
            "Configuration saved in Model/checkpoint-600/config.json\n",
            "Model weights saved in Model/checkpoint-600/pytorch_model.bin\n",
            "Feature extractor saved in Model/checkpoint-600/preprocessor_config.json\n",
            "Deleting older checkpoint [Model/checkpoint-300] due to args.save_total_limit\n"
          ]
        }
      ],
      "source": [
        "mlflow.set_tracking_uri(\"https://dagshub.com/kingabzpro/Urdu-ASR-SOTA.mlflow\")\n",
        "# mlflow.set_tag('mlflow.source.git.commit', \"d316332f0def9d679491b81b2b35aee7bbf21457\")   \n",
        "trainer.train()\n",
        "mlflow.end_run()"
      ]
    },
    {
      "cell_type": "markdown",
      "metadata": {
        "id": "a9q4mgMZplr_"
      },
      "source": [
        "The training loss and validation WER go down nicely."
      ]
    },
    {
      "cell_type": "markdown",
      "metadata": {
        "id": "4Ya7WEy0pd13"
      },
      "source": [
        "You can now upload the result of the training to the 🤗 Hub, just execute this instruction:"
      ]
    },
    {
      "cell_type": "code",
      "source": [
        "import dagshub\n",
        "\n",
        "with dagshub.dagshub_logger() as logger:\n",
        "  logger.log_hyperparams(model_class=\"wav2vec2-xls-r-300m\")\n",
        "  logger.log_hyperparams(training_args.to_dict())\n",
        "  logger.log_metrics(trainer.evaluate())"
      ],
      "metadata": {
        "id": "m6w5pWkLT5qn"
      },
      "execution_count": null,
      "outputs": []
    },
    {
      "cell_type": "code",
      "source": [
        "!dvc remote add origin https://dagshub.com/kingabzpro/Urdu-ASR-SOTA.dvc\n",
        "!dvc remote modify origin --local auth basic\n",
        "!dvc remote modify origin --local user kingabzpro\n",
        "!dvc remote modify origin --local password 3e05bcfce59b35d8e16ecd5a0023b08afefc9756"
      ],
      "metadata": {
        "id": "ElIer3iRbzEh"
      },
      "execution_count": null,
      "outputs": []
    },
    {
      "cell_type": "code",
      "execution_count": null,
      "metadata": {
        "id": "ArG1Thf6NBWm"
      },
      "outputs": [],
      "source": [
        "!fds commit -m \"second experiment\"\n",
        "!fds push origin"
      ]
    }
  ],
  "metadata": {
    "accelerator": "GPU",
    "colab": {
      "collapsed_sections": [],
      "machine_shape": "hm",
      "name": "Urdu_Fine_Tune_XLS_R_on_Common_Voice (3).ipynb",
      "provenance": []
    },
    "kernelspec": {
      "display_name": "Python 3 (ipykernel)",
      "language": "python",
      "name": "python3"
    },
    "language_info": {
      "codemirror_mode": {
        "name": "ipython",
        "version": 3
      },
      "file_extension": ".py",
      "mimetype": "text/x-python",
      "name": "python",
      "nbconvert_exporter": "python",
      "pygments_lexer": "ipython3",
      "version": "3.8.8"
    },
    "widgets": {
      "application/vnd.jupyter.widget-state+json": {
        "f36ef2953a78471f83668cc5b2dd3939": {
          "model_module": "@jupyter-widgets/controls",
          "model_name": "HBoxModel",
          "model_module_version": "1.5.0",
          "state": {
            "_dom_classes": [],
            "_model_module": "@jupyter-widgets/controls",
            "_model_module_version": "1.5.0",
            "_model_name": "HBoxModel",
            "_view_count": null,
            "_view_module": "@jupyter-widgets/controls",
            "_view_module_version": "1.5.0",
            "_view_name": "HBoxView",
            "box_style": "",
            "children": [
              "IPY_MODEL_ddead8fbf3c049d9ba2f9230d3679dcd",
              "IPY_MODEL_b7b3f286421e4dfc9c31f6773f41a476",
              "IPY_MODEL_44ba7b2c76c34d3ca9a18b55cc22e1d0"
            ],
            "layout": "IPY_MODEL_972c7d2625c941aebcb703a05f36707d"
          }
        },
        "ddead8fbf3c049d9ba2f9230d3679dcd": {
          "model_module": "@jupyter-widgets/controls",
          "model_name": "HTMLModel",
          "model_module_version": "1.5.0",
          "state": {
            "_dom_classes": [],
            "_model_module": "@jupyter-widgets/controls",
            "_model_module_version": "1.5.0",
            "_model_name": "HTMLModel",
            "_view_count": null,
            "_view_module": "@jupyter-widgets/controls",
            "_view_module_version": "1.5.0",
            "_view_name": "HTMLView",
            "description": "",
            "description_tooltip": null,
            "layout": "IPY_MODEL_fc082dad8009470aa0941f04b95a3dcc",
            "placeholder": "​",
            "style": "IPY_MODEL_184cd1a0e9ae44c1a2800cb34cf21f6e",
            "value": "100%"
          }
        },
        "b7b3f286421e4dfc9c31f6773f41a476": {
          "model_module": "@jupyter-widgets/controls",
          "model_name": "FloatProgressModel",
          "model_module_version": "1.5.0",
          "state": {
            "_dom_classes": [],
            "_model_module": "@jupyter-widgets/controls",
            "_model_module_version": "1.5.0",
            "_model_name": "FloatProgressModel",
            "_view_count": null,
            "_view_module": "@jupyter-widgets/controls",
            "_view_module_version": "1.5.0",
            "_view_name": "ProgressView",
            "bar_style": "success",
            "description": "",
            "description_tooltip": null,
            "layout": "IPY_MODEL_e954f23548624e6dabd8416652033d82",
            "max": 1,
            "min": 0,
            "orientation": "horizontal",
            "style": "IPY_MODEL_e465fc21596a4e8ca0a88785135342f2",
            "value": 1
          }
        },
        "44ba7b2c76c34d3ca9a18b55cc22e1d0": {
          "model_module": "@jupyter-widgets/controls",
          "model_name": "HTMLModel",
          "model_module_version": "1.5.0",
          "state": {
            "_dom_classes": [],
            "_model_module": "@jupyter-widgets/controls",
            "_model_module_version": "1.5.0",
            "_model_name": "HTMLModel",
            "_view_count": null,
            "_view_module": "@jupyter-widgets/controls",
            "_view_module_version": "1.5.0",
            "_view_name": "HTMLView",
            "description": "",
            "description_tooltip": null,
            "layout": "IPY_MODEL_818ee624f78949d89d9a5db63c5d6d57",
            "placeholder": "​",
            "style": "IPY_MODEL_0802e170d72e4ff999697bf8ffd2c597",
            "value": " 1/1 [00:00&lt;00:00, 11.10ba/s]"
          }
        },
        "972c7d2625c941aebcb703a05f36707d": {
          "model_module": "@jupyter-widgets/base",
          "model_name": "LayoutModel",
          "model_module_version": "1.2.0",
          "state": {
            "_model_module": "@jupyter-widgets/base",
            "_model_module_version": "1.2.0",
            "_model_name": "LayoutModel",
            "_view_count": null,
            "_view_module": "@jupyter-widgets/base",
            "_view_module_version": "1.2.0",
            "_view_name": "LayoutView",
            "align_content": null,
            "align_items": null,
            "align_self": null,
            "border": null,
            "bottom": null,
            "display": null,
            "flex": null,
            "flex_flow": null,
            "grid_area": null,
            "grid_auto_columns": null,
            "grid_auto_flow": null,
            "grid_auto_rows": null,
            "grid_column": null,
            "grid_gap": null,
            "grid_row": null,
            "grid_template_areas": null,
            "grid_template_columns": null,
            "grid_template_rows": null,
            "height": null,
            "justify_content": null,
            "justify_items": null,
            "left": null,
            "margin": null,
            "max_height": null,
            "max_width": null,
            "min_height": null,
            "min_width": null,
            "object_fit": null,
            "object_position": null,
            "order": null,
            "overflow": null,
            "overflow_x": null,
            "overflow_y": null,
            "padding": null,
            "right": null,
            "top": null,
            "visibility": null,
            "width": null
          }
        },
        "fc082dad8009470aa0941f04b95a3dcc": {
          "model_module": "@jupyter-widgets/base",
          "model_name": "LayoutModel",
          "model_module_version": "1.2.0",
          "state": {
            "_model_module": "@jupyter-widgets/base",
            "_model_module_version": "1.2.0",
            "_model_name": "LayoutModel",
            "_view_count": null,
            "_view_module": "@jupyter-widgets/base",
            "_view_module_version": "1.2.0",
            "_view_name": "LayoutView",
            "align_content": null,
            "align_items": null,
            "align_self": null,
            "border": null,
            "bottom": null,
            "display": null,
            "flex": null,
            "flex_flow": null,
            "grid_area": null,
            "grid_auto_columns": null,
            "grid_auto_flow": null,
            "grid_auto_rows": null,
            "grid_column": null,
            "grid_gap": null,
            "grid_row": null,
            "grid_template_areas": null,
            "grid_template_columns": null,
            "grid_template_rows": null,
            "height": null,
            "justify_content": null,
            "justify_items": null,
            "left": null,
            "margin": null,
            "max_height": null,
            "max_width": null,
            "min_height": null,
            "min_width": null,
            "object_fit": null,
            "object_position": null,
            "order": null,
            "overflow": null,
            "overflow_x": null,
            "overflow_y": null,
            "padding": null,
            "right": null,
            "top": null,
            "visibility": null,
            "width": null
          }
        },
        "184cd1a0e9ae44c1a2800cb34cf21f6e": {
          "model_module": "@jupyter-widgets/controls",
          "model_name": "DescriptionStyleModel",
          "model_module_version": "1.5.0",
          "state": {
            "_model_module": "@jupyter-widgets/controls",
            "_model_module_version": "1.5.0",
            "_model_name": "DescriptionStyleModel",
            "_view_count": null,
            "_view_module": "@jupyter-widgets/base",
            "_view_module_version": "1.2.0",
            "_view_name": "StyleView",
            "description_width": ""
          }
        },
        "e954f23548624e6dabd8416652033d82": {
          "model_module": "@jupyter-widgets/base",
          "model_name": "LayoutModel",
          "model_module_version": "1.2.0",
          "state": {
            "_model_module": "@jupyter-widgets/base",
            "_model_module_version": "1.2.0",
            "_model_name": "LayoutModel",
            "_view_count": null,
            "_view_module": "@jupyter-widgets/base",
            "_view_module_version": "1.2.0",
            "_view_name": "LayoutView",
            "align_content": null,
            "align_items": null,
            "align_self": null,
            "border": null,
            "bottom": null,
            "display": null,
            "flex": null,
            "flex_flow": null,
            "grid_area": null,
            "grid_auto_columns": null,
            "grid_auto_flow": null,
            "grid_auto_rows": null,
            "grid_column": null,
            "grid_gap": null,
            "grid_row": null,
            "grid_template_areas": null,
            "grid_template_columns": null,
            "grid_template_rows": null,
            "height": null,
            "justify_content": null,
            "justify_items": null,
            "left": null,
            "margin": null,
            "max_height": null,
            "max_width": null,
            "min_height": null,
            "min_width": null,
            "object_fit": null,
            "object_position": null,
            "order": null,
            "overflow": null,
            "overflow_x": null,
            "overflow_y": null,
            "padding": null,
            "right": null,
            "top": null,
            "visibility": null,
            "width": null
          }
        },
        "e465fc21596a4e8ca0a88785135342f2": {
          "model_module": "@jupyter-widgets/controls",
          "model_name": "ProgressStyleModel",
          "model_module_version": "1.5.0",
          "state": {
            "_model_module": "@jupyter-widgets/controls",
            "_model_module_version": "1.5.0",
            "_model_name": "ProgressStyleModel",
            "_view_count": null,
            "_view_module": "@jupyter-widgets/base",
            "_view_module_version": "1.2.0",
            "_view_name": "StyleView",
            "bar_color": null,
            "description_width": ""
          }
        },
        "818ee624f78949d89d9a5db63c5d6d57": {
          "model_module": "@jupyter-widgets/base",
          "model_name": "LayoutModel",
          "model_module_version": "1.2.0",
          "state": {
            "_model_module": "@jupyter-widgets/base",
            "_model_module_version": "1.2.0",
            "_model_name": "LayoutModel",
            "_view_count": null,
            "_view_module": "@jupyter-widgets/base",
            "_view_module_version": "1.2.0",
            "_view_name": "LayoutView",
            "align_content": null,
            "align_items": null,
            "align_self": null,
            "border": null,
            "bottom": null,
            "display": null,
            "flex": null,
            "flex_flow": null,
            "grid_area": null,
            "grid_auto_columns": null,
            "grid_auto_flow": null,
            "grid_auto_rows": null,
            "grid_column": null,
            "grid_gap": null,
            "grid_row": null,
            "grid_template_areas": null,
            "grid_template_columns": null,
            "grid_template_rows": null,
            "height": null,
            "justify_content": null,
            "justify_items": null,
            "left": null,
            "margin": null,
            "max_height": null,
            "max_width": null,
            "min_height": null,
            "min_width": null,
            "object_fit": null,
            "object_position": null,
            "order": null,
            "overflow": null,
            "overflow_x": null,
            "overflow_y": null,
            "padding": null,
            "right": null,
            "top": null,
            "visibility": null,
            "width": null
          }
        },
        "0802e170d72e4ff999697bf8ffd2c597": {
          "model_module": "@jupyter-widgets/controls",
          "model_name": "DescriptionStyleModel",
          "model_module_version": "1.5.0",
          "state": {
            "_model_module": "@jupyter-widgets/controls",
            "_model_module_version": "1.5.0",
            "_model_name": "DescriptionStyleModel",
            "_view_count": null,
            "_view_module": "@jupyter-widgets/base",
            "_view_module_version": "1.2.0",
            "_view_name": "StyleView",
            "description_width": ""
          }
        },
        "68175a4447a749a8a795355c8d1760f5": {
          "model_module": "@jupyter-widgets/controls",
          "model_name": "HBoxModel",
          "model_module_version": "1.5.0",
          "state": {
            "_dom_classes": [],
            "_model_module": "@jupyter-widgets/controls",
            "_model_module_version": "1.5.0",
            "_model_name": "HBoxModel",
            "_view_count": null,
            "_view_module": "@jupyter-widgets/controls",
            "_view_module_version": "1.5.0",
            "_view_name": "HBoxView",
            "box_style": "",
            "children": [
              "IPY_MODEL_74a4b915a4c14c9f88c6c6915fef43aa",
              "IPY_MODEL_d3ee69375f624322945585683abd15d0",
              "IPY_MODEL_8a4f576b565940f48ee0141337eea9ad"
            ],
            "layout": "IPY_MODEL_c10ec5576e4540e2b3a80687c6a35203"
          }
        },
        "74a4b915a4c14c9f88c6c6915fef43aa": {
          "model_module": "@jupyter-widgets/controls",
          "model_name": "HTMLModel",
          "model_module_version": "1.5.0",
          "state": {
            "_dom_classes": [],
            "_model_module": "@jupyter-widgets/controls",
            "_model_module_version": "1.5.0",
            "_model_name": "HTMLModel",
            "_view_count": null,
            "_view_module": "@jupyter-widgets/controls",
            "_view_module_version": "1.5.0",
            "_view_name": "HTMLView",
            "description": "",
            "description_tooltip": null,
            "layout": "IPY_MODEL_cadb48a2a4f140bab83864f9a8bdc101",
            "placeholder": "​",
            "style": "IPY_MODEL_da985e2f1e604db69cffa3029b8ef3fa",
            "value": "100%"
          }
        },
        "d3ee69375f624322945585683abd15d0": {
          "model_module": "@jupyter-widgets/controls",
          "model_name": "FloatProgressModel",
          "model_module_version": "1.5.0",
          "state": {
            "_dom_classes": [],
            "_model_module": "@jupyter-widgets/controls",
            "_model_module_version": "1.5.0",
            "_model_name": "FloatProgressModel",
            "_view_count": null,
            "_view_module": "@jupyter-widgets/controls",
            "_view_module_version": "1.5.0",
            "_view_name": "ProgressView",
            "bar_style": "success",
            "description": "",
            "description_tooltip": null,
            "layout": "IPY_MODEL_957c2385c4d9492889dd1e563059a2eb",
            "max": 1,
            "min": 0,
            "orientation": "horizontal",
            "style": "IPY_MODEL_bd9423d7fd79440cba90b829e9f83f37",
            "value": 1
          }
        },
        "8a4f576b565940f48ee0141337eea9ad": {
          "model_module": "@jupyter-widgets/controls",
          "model_name": "HTMLModel",
          "model_module_version": "1.5.0",
          "state": {
            "_dom_classes": [],
            "_model_module": "@jupyter-widgets/controls",
            "_model_module_version": "1.5.0",
            "_model_name": "HTMLModel",
            "_view_count": null,
            "_view_module": "@jupyter-widgets/controls",
            "_view_module_version": "1.5.0",
            "_view_name": "HTMLView",
            "description": "",
            "description_tooltip": null,
            "layout": "IPY_MODEL_ed41e4dfba004526926e7f902b9bd4be",
            "placeholder": "​",
            "style": "IPY_MODEL_b720ea4e8f574bf9963d7a587fddcb1e",
            "value": " 1/1 [00:00&lt;00:00, 21.88ba/s]"
          }
        },
        "c10ec5576e4540e2b3a80687c6a35203": {
          "model_module": "@jupyter-widgets/base",
          "model_name": "LayoutModel",
          "model_module_version": "1.2.0",
          "state": {
            "_model_module": "@jupyter-widgets/base",
            "_model_module_version": "1.2.0",
            "_model_name": "LayoutModel",
            "_view_count": null,
            "_view_module": "@jupyter-widgets/base",
            "_view_module_version": "1.2.0",
            "_view_name": "LayoutView",
            "align_content": null,
            "align_items": null,
            "align_self": null,
            "border": null,
            "bottom": null,
            "display": null,
            "flex": null,
            "flex_flow": null,
            "grid_area": null,
            "grid_auto_columns": null,
            "grid_auto_flow": null,
            "grid_auto_rows": null,
            "grid_column": null,
            "grid_gap": null,
            "grid_row": null,
            "grid_template_areas": null,
            "grid_template_columns": null,
            "grid_template_rows": null,
            "height": null,
            "justify_content": null,
            "justify_items": null,
            "left": null,
            "margin": null,
            "max_height": null,
            "max_width": null,
            "min_height": null,
            "min_width": null,
            "object_fit": null,
            "object_position": null,
            "order": null,
            "overflow": null,
            "overflow_x": null,
            "overflow_y": null,
            "padding": null,
            "right": null,
            "top": null,
            "visibility": null,
            "width": null
          }
        },
        "cadb48a2a4f140bab83864f9a8bdc101": {
          "model_module": "@jupyter-widgets/base",
          "model_name": "LayoutModel",
          "model_module_version": "1.2.0",
          "state": {
            "_model_module": "@jupyter-widgets/base",
            "_model_module_version": "1.2.0",
            "_model_name": "LayoutModel",
            "_view_count": null,
            "_view_module": "@jupyter-widgets/base",
            "_view_module_version": "1.2.0",
            "_view_name": "LayoutView",
            "align_content": null,
            "align_items": null,
            "align_self": null,
            "border": null,
            "bottom": null,
            "display": null,
            "flex": null,
            "flex_flow": null,
            "grid_area": null,
            "grid_auto_columns": null,
            "grid_auto_flow": null,
            "grid_auto_rows": null,
            "grid_column": null,
            "grid_gap": null,
            "grid_row": null,
            "grid_template_areas": null,
            "grid_template_columns": null,
            "grid_template_rows": null,
            "height": null,
            "justify_content": null,
            "justify_items": null,
            "left": null,
            "margin": null,
            "max_height": null,
            "max_width": null,
            "min_height": null,
            "min_width": null,
            "object_fit": null,
            "object_position": null,
            "order": null,
            "overflow": null,
            "overflow_x": null,
            "overflow_y": null,
            "padding": null,
            "right": null,
            "top": null,
            "visibility": null,
            "width": null
          }
        },
        "da985e2f1e604db69cffa3029b8ef3fa": {
          "model_module": "@jupyter-widgets/controls",
          "model_name": "DescriptionStyleModel",
          "model_module_version": "1.5.0",
          "state": {
            "_model_module": "@jupyter-widgets/controls",
            "_model_module_version": "1.5.0",
            "_model_name": "DescriptionStyleModel",
            "_view_count": null,
            "_view_module": "@jupyter-widgets/base",
            "_view_module_version": "1.2.0",
            "_view_name": "StyleView",
            "description_width": ""
          }
        },
        "957c2385c4d9492889dd1e563059a2eb": {
          "model_module": "@jupyter-widgets/base",
          "model_name": "LayoutModel",
          "model_module_version": "1.2.0",
          "state": {
            "_model_module": "@jupyter-widgets/base",
            "_model_module_version": "1.2.0",
            "_model_name": "LayoutModel",
            "_view_count": null,
            "_view_module": "@jupyter-widgets/base",
            "_view_module_version": "1.2.0",
            "_view_name": "LayoutView",
            "align_content": null,
            "align_items": null,
            "align_self": null,
            "border": null,
            "bottom": null,
            "display": null,
            "flex": null,
            "flex_flow": null,
            "grid_area": null,
            "grid_auto_columns": null,
            "grid_auto_flow": null,
            "grid_auto_rows": null,
            "grid_column": null,
            "grid_gap": null,
            "grid_row": null,
            "grid_template_areas": null,
            "grid_template_columns": null,
            "grid_template_rows": null,
            "height": null,
            "justify_content": null,
            "justify_items": null,
            "left": null,
            "margin": null,
            "max_height": null,
            "max_width": null,
            "min_height": null,
            "min_width": null,
            "object_fit": null,
            "object_position": null,
            "order": null,
            "overflow": null,
            "overflow_x": null,
            "overflow_y": null,
            "padding": null,
            "right": null,
            "top": null,
            "visibility": null,
            "width": null
          }
        },
        "bd9423d7fd79440cba90b829e9f83f37": {
          "model_module": "@jupyter-widgets/controls",
          "model_name": "ProgressStyleModel",
          "model_module_version": "1.5.0",
          "state": {
            "_model_module": "@jupyter-widgets/controls",
            "_model_module_version": "1.5.0",
            "_model_name": "ProgressStyleModel",
            "_view_count": null,
            "_view_module": "@jupyter-widgets/base",
            "_view_module_version": "1.2.0",
            "_view_name": "StyleView",
            "bar_color": null,
            "description_width": ""
          }
        },
        "ed41e4dfba004526926e7f902b9bd4be": {
          "model_module": "@jupyter-widgets/base",
          "model_name": "LayoutModel",
          "model_module_version": "1.2.0",
          "state": {
            "_model_module": "@jupyter-widgets/base",
            "_model_module_version": "1.2.0",
            "_model_name": "LayoutModel",
            "_view_count": null,
            "_view_module": "@jupyter-widgets/base",
            "_view_module_version": "1.2.0",
            "_view_name": "LayoutView",
            "align_content": null,
            "align_items": null,
            "align_self": null,
            "border": null,
            "bottom": null,
            "display": null,
            "flex": null,
            "flex_flow": null,
            "grid_area": null,
            "grid_auto_columns": null,
            "grid_auto_flow": null,
            "grid_auto_rows": null,
            "grid_column": null,
            "grid_gap": null,
            "grid_row": null,
            "grid_template_areas": null,
            "grid_template_columns": null,
            "grid_template_rows": null,
            "height": null,
            "justify_content": null,
            "justify_items": null,
            "left": null,
            "margin": null,
            "max_height": null,
            "max_width": null,
            "min_height": null,
            "min_width": null,
            "object_fit": null,
            "object_position": null,
            "order": null,
            "overflow": null,
            "overflow_x": null,
            "overflow_y": null,
            "padding": null,
            "right": null,
            "top": null,
            "visibility": null,
            "width": null
          }
        },
        "b720ea4e8f574bf9963d7a587fddcb1e": {
          "model_module": "@jupyter-widgets/controls",
          "model_name": "DescriptionStyleModel",
          "model_module_version": "1.5.0",
          "state": {
            "_model_module": "@jupyter-widgets/controls",
            "_model_module_version": "1.5.0",
            "_model_name": "DescriptionStyleModel",
            "_view_count": null,
            "_view_module": "@jupyter-widgets/base",
            "_view_module_version": "1.2.0",
            "_view_name": "StyleView",
            "description_width": ""
          }
        },
        "1149c8d876b8434db67f23f8d0cf4e54": {
          "model_module": "@jupyter-widgets/controls",
          "model_name": "HBoxModel",
          "model_module_version": "1.5.0",
          "state": {
            "_dom_classes": [],
            "_model_module": "@jupyter-widgets/controls",
            "_model_module_version": "1.5.0",
            "_model_name": "HBoxModel",
            "_view_count": null,
            "_view_module": "@jupyter-widgets/controls",
            "_view_module_version": "1.5.0",
            "_view_name": "HBoxView",
            "box_style": "",
            "children": [
              "IPY_MODEL_acdbfc9bae2f40689944317666bd33ba",
              "IPY_MODEL_80cbdf747dfe45939c266bf31e7042d8",
              "IPY_MODEL_a19d35352882473e88e7cd9900f04b18"
            ],
            "layout": "IPY_MODEL_5bd22dfd12084f1381137dc9bf0d26eb"
          }
        },
        "acdbfc9bae2f40689944317666bd33ba": {
          "model_module": "@jupyter-widgets/controls",
          "model_name": "HTMLModel",
          "model_module_version": "1.5.0",
          "state": {
            "_dom_classes": [],
            "_model_module": "@jupyter-widgets/controls",
            "_model_module_version": "1.5.0",
            "_model_name": "HTMLModel",
            "_view_count": null,
            "_view_module": "@jupyter-widgets/controls",
            "_view_module_version": "1.5.0",
            "_view_name": "HTMLView",
            "description": "",
            "description_tooltip": null,
            "layout": "IPY_MODEL_5411fe5b9c994caeacb21abd6bd82374",
            "placeholder": "​",
            "style": "IPY_MODEL_c80c0d69b86f470d8f5e9922d696404d",
            "value": ""
          }
        },
        "80cbdf747dfe45939c266bf31e7042d8": {
          "model_module": "@jupyter-widgets/controls",
          "model_name": "FloatProgressModel",
          "model_module_version": "1.5.0",
          "state": {
            "_dom_classes": [],
            "_model_module": "@jupyter-widgets/controls",
            "_model_module_version": "1.5.0",
            "_model_name": "FloatProgressModel",
            "_view_count": null,
            "_view_module": "@jupyter-widgets/controls",
            "_view_module_version": "1.5.0",
            "_view_name": "ProgressView",
            "bar_style": "success",
            "description": "",
            "description_tooltip": null,
            "layout": "IPY_MODEL_b58e9a584f734e718a857cdbdb671cba",
            "max": 1,
            "min": 0,
            "orientation": "horizontal",
            "style": "IPY_MODEL_e21e3d3ba70147b09dd025986c88264d",
            "value": 1
          }
        },
        "a19d35352882473e88e7cd9900f04b18": {
          "model_module": "@jupyter-widgets/controls",
          "model_name": "HTMLModel",
          "model_module_version": "1.5.0",
          "state": {
            "_dom_classes": [],
            "_model_module": "@jupyter-widgets/controls",
            "_model_module_version": "1.5.0",
            "_model_name": "HTMLModel",
            "_view_count": null,
            "_view_module": "@jupyter-widgets/controls",
            "_view_module_version": "1.5.0",
            "_view_name": "HTMLView",
            "description": "",
            "description_tooltip": null,
            "layout": "IPY_MODEL_e11b5cd77825455587255870b5bfbd52",
            "placeholder": "​",
            "style": "IPY_MODEL_7888cf9b3dd04c6e86be0cc691915063",
            "value": " 2080/? [00:29&lt;00:00, 88.42ex/s]"
          }
        },
        "5bd22dfd12084f1381137dc9bf0d26eb": {
          "model_module": "@jupyter-widgets/base",
          "model_name": "LayoutModel",
          "model_module_version": "1.2.0",
          "state": {
            "_model_module": "@jupyter-widgets/base",
            "_model_module_version": "1.2.0",
            "_model_name": "LayoutModel",
            "_view_count": null,
            "_view_module": "@jupyter-widgets/base",
            "_view_module_version": "1.2.0",
            "_view_name": "LayoutView",
            "align_content": null,
            "align_items": null,
            "align_self": null,
            "border": null,
            "bottom": null,
            "display": null,
            "flex": null,
            "flex_flow": null,
            "grid_area": null,
            "grid_auto_columns": null,
            "grid_auto_flow": null,
            "grid_auto_rows": null,
            "grid_column": null,
            "grid_gap": null,
            "grid_row": null,
            "grid_template_areas": null,
            "grid_template_columns": null,
            "grid_template_rows": null,
            "height": null,
            "justify_content": null,
            "justify_items": null,
            "left": null,
            "margin": null,
            "max_height": null,
            "max_width": null,
            "min_height": null,
            "min_width": null,
            "object_fit": null,
            "object_position": null,
            "order": null,
            "overflow": null,
            "overflow_x": null,
            "overflow_y": null,
            "padding": null,
            "right": null,
            "top": null,
            "visibility": null,
            "width": null
          }
        },
        "5411fe5b9c994caeacb21abd6bd82374": {
          "model_module": "@jupyter-widgets/base",
          "model_name": "LayoutModel",
          "model_module_version": "1.2.0",
          "state": {
            "_model_module": "@jupyter-widgets/base",
            "_model_module_version": "1.2.0",
            "_model_name": "LayoutModel",
            "_view_count": null,
            "_view_module": "@jupyter-widgets/base",
            "_view_module_version": "1.2.0",
            "_view_name": "LayoutView",
            "align_content": null,
            "align_items": null,
            "align_self": null,
            "border": null,
            "bottom": null,
            "display": null,
            "flex": null,
            "flex_flow": null,
            "grid_area": null,
            "grid_auto_columns": null,
            "grid_auto_flow": null,
            "grid_auto_rows": null,
            "grid_column": null,
            "grid_gap": null,
            "grid_row": null,
            "grid_template_areas": null,
            "grid_template_columns": null,
            "grid_template_rows": null,
            "height": null,
            "justify_content": null,
            "justify_items": null,
            "left": null,
            "margin": null,
            "max_height": null,
            "max_width": null,
            "min_height": null,
            "min_width": null,
            "object_fit": null,
            "object_position": null,
            "order": null,
            "overflow": null,
            "overflow_x": null,
            "overflow_y": null,
            "padding": null,
            "right": null,
            "top": null,
            "visibility": null,
            "width": null
          }
        },
        "c80c0d69b86f470d8f5e9922d696404d": {
          "model_module": "@jupyter-widgets/controls",
          "model_name": "DescriptionStyleModel",
          "model_module_version": "1.5.0",
          "state": {
            "_model_module": "@jupyter-widgets/controls",
            "_model_module_version": "1.5.0",
            "_model_name": "DescriptionStyleModel",
            "_view_count": null,
            "_view_module": "@jupyter-widgets/base",
            "_view_module_version": "1.2.0",
            "_view_name": "StyleView",
            "description_width": ""
          }
        },
        "b58e9a584f734e718a857cdbdb671cba": {
          "model_module": "@jupyter-widgets/base",
          "model_name": "LayoutModel",
          "model_module_version": "1.2.0",
          "state": {
            "_model_module": "@jupyter-widgets/base",
            "_model_module_version": "1.2.0",
            "_model_name": "LayoutModel",
            "_view_count": null,
            "_view_module": "@jupyter-widgets/base",
            "_view_module_version": "1.2.0",
            "_view_name": "LayoutView",
            "align_content": null,
            "align_items": null,
            "align_self": null,
            "border": null,
            "bottom": null,
            "display": null,
            "flex": null,
            "flex_flow": null,
            "grid_area": null,
            "grid_auto_columns": null,
            "grid_auto_flow": null,
            "grid_auto_rows": null,
            "grid_column": null,
            "grid_gap": null,
            "grid_row": null,
            "grid_template_areas": null,
            "grid_template_columns": null,
            "grid_template_rows": null,
            "height": null,
            "justify_content": null,
            "justify_items": null,
            "left": null,
            "margin": null,
            "max_height": null,
            "max_width": null,
            "min_height": null,
            "min_width": null,
            "object_fit": null,
            "object_position": null,
            "order": null,
            "overflow": null,
            "overflow_x": null,
            "overflow_y": null,
            "padding": null,
            "right": null,
            "top": null,
            "visibility": null,
            "width": "20px"
          }
        },
        "e21e3d3ba70147b09dd025986c88264d": {
          "model_module": "@jupyter-widgets/controls",
          "model_name": "ProgressStyleModel",
          "model_module_version": "1.5.0",
          "state": {
            "_model_module": "@jupyter-widgets/controls",
            "_model_module_version": "1.5.0",
            "_model_name": "ProgressStyleModel",
            "_view_count": null,
            "_view_module": "@jupyter-widgets/base",
            "_view_module_version": "1.2.0",
            "_view_name": "StyleView",
            "bar_color": null,
            "description_width": ""
          }
        },
        "e11b5cd77825455587255870b5bfbd52": {
          "model_module": "@jupyter-widgets/base",
          "model_name": "LayoutModel",
          "model_module_version": "1.2.0",
          "state": {
            "_model_module": "@jupyter-widgets/base",
            "_model_module_version": "1.2.0",
            "_model_name": "LayoutModel",
            "_view_count": null,
            "_view_module": "@jupyter-widgets/base",
            "_view_module_version": "1.2.0",
            "_view_name": "LayoutView",
            "align_content": null,
            "align_items": null,
            "align_self": null,
            "border": null,
            "bottom": null,
            "display": null,
            "flex": null,
            "flex_flow": null,
            "grid_area": null,
            "grid_auto_columns": null,
            "grid_auto_flow": null,
            "grid_auto_rows": null,
            "grid_column": null,
            "grid_gap": null,
            "grid_row": null,
            "grid_template_areas": null,
            "grid_template_columns": null,
            "grid_template_rows": null,
            "height": null,
            "justify_content": null,
            "justify_items": null,
            "left": null,
            "margin": null,
            "max_height": null,
            "max_width": null,
            "min_height": null,
            "min_width": null,
            "object_fit": null,
            "object_position": null,
            "order": null,
            "overflow": null,
            "overflow_x": null,
            "overflow_y": null,
            "padding": null,
            "right": null,
            "top": null,
            "visibility": null,
            "width": null
          }
        },
        "7888cf9b3dd04c6e86be0cc691915063": {
          "model_module": "@jupyter-widgets/controls",
          "model_name": "DescriptionStyleModel",
          "model_module_version": "1.5.0",
          "state": {
            "_model_module": "@jupyter-widgets/controls",
            "_model_module_version": "1.5.0",
            "_model_name": "DescriptionStyleModel",
            "_view_count": null,
            "_view_module": "@jupyter-widgets/base",
            "_view_module_version": "1.2.0",
            "_view_name": "StyleView",
            "description_width": ""
          }
        },
        "7d780bbaf63c4398bcb4cdd7b7a420f8": {
          "model_module": "@jupyter-widgets/controls",
          "model_name": "HBoxModel",
          "model_module_version": "1.5.0",
          "state": {
            "_dom_classes": [],
            "_model_module": "@jupyter-widgets/controls",
            "_model_module_version": "1.5.0",
            "_model_name": "HBoxModel",
            "_view_count": null,
            "_view_module": "@jupyter-widgets/controls",
            "_view_module_version": "1.5.0",
            "_view_name": "HBoxView",
            "box_style": "",
            "children": [
              "IPY_MODEL_005bfde85ca84ac2baeecca8b29e8128",
              "IPY_MODEL_be3bfc1639014762af07c228030d2f49",
              "IPY_MODEL_2e52b247ac7140e1b009141a20e0e4e0"
            ],
            "layout": "IPY_MODEL_9be9f0c4290a446c883bfce80da460fe"
          }
        },
        "005bfde85ca84ac2baeecca8b29e8128": {
          "model_module": "@jupyter-widgets/controls",
          "model_name": "HTMLModel",
          "model_module_version": "1.5.0",
          "state": {
            "_dom_classes": [],
            "_model_module": "@jupyter-widgets/controls",
            "_model_module_version": "1.5.0",
            "_model_name": "HTMLModel",
            "_view_count": null,
            "_view_module": "@jupyter-widgets/controls",
            "_view_module_version": "1.5.0",
            "_view_name": "HTMLView",
            "description": "",
            "description_tooltip": null,
            "layout": "IPY_MODEL_3bd607444dc6462089423e0044c49e16",
            "placeholder": "​",
            "style": "IPY_MODEL_8c4a4c3b2c4441b1b945d249b2c3d765",
            "value": ""
          }
        },
        "be3bfc1639014762af07c228030d2f49": {
          "model_module": "@jupyter-widgets/controls",
          "model_name": "FloatProgressModel",
          "model_module_version": "1.5.0",
          "state": {
            "_dom_classes": [],
            "_model_module": "@jupyter-widgets/controls",
            "_model_module_version": "1.5.0",
            "_model_name": "FloatProgressModel",
            "_view_count": null,
            "_view_module": "@jupyter-widgets/controls",
            "_view_module_version": "1.5.0",
            "_view_name": "ProgressView",
            "bar_style": "success",
            "description": "",
            "description_tooltip": null,
            "layout": "IPY_MODEL_5379091c1a344d9382b4fd50e675b11e",
            "max": 1,
            "min": 0,
            "orientation": "horizontal",
            "style": "IPY_MODEL_6b75b166f7fc4a71b710f6be726a955b",
            "value": 1
          }
        },
        "2e52b247ac7140e1b009141a20e0e4e0": {
          "model_module": "@jupyter-widgets/controls",
          "model_name": "HTMLModel",
          "model_module_version": "1.5.0",
          "state": {
            "_dom_classes": [],
            "_model_module": "@jupyter-widgets/controls",
            "_model_module_version": "1.5.0",
            "_model_name": "HTMLModel",
            "_view_count": null,
            "_view_module": "@jupyter-widgets/controls",
            "_view_module_version": "1.5.0",
            "_view_name": "HTMLView",
            "description": "",
            "description_tooltip": null,
            "layout": "IPY_MODEL_9d951e2829464ae3bcbd596352e3af2d",
            "placeholder": "​",
            "style": "IPY_MODEL_e6ae489f1dcf48eb9f154dfc4a6e38a7",
            "value": " 341/? [00:02&lt;00:00, 113.05ex/s]"
          }
        },
        "9be9f0c4290a446c883bfce80da460fe": {
          "model_module": "@jupyter-widgets/base",
          "model_name": "LayoutModel",
          "model_module_version": "1.2.0",
          "state": {
            "_model_module": "@jupyter-widgets/base",
            "_model_module_version": "1.2.0",
            "_model_name": "LayoutModel",
            "_view_count": null,
            "_view_module": "@jupyter-widgets/base",
            "_view_module_version": "1.2.0",
            "_view_name": "LayoutView",
            "align_content": null,
            "align_items": null,
            "align_self": null,
            "border": null,
            "bottom": null,
            "display": null,
            "flex": null,
            "flex_flow": null,
            "grid_area": null,
            "grid_auto_columns": null,
            "grid_auto_flow": null,
            "grid_auto_rows": null,
            "grid_column": null,
            "grid_gap": null,
            "grid_row": null,
            "grid_template_areas": null,
            "grid_template_columns": null,
            "grid_template_rows": null,
            "height": null,
            "justify_content": null,
            "justify_items": null,
            "left": null,
            "margin": null,
            "max_height": null,
            "max_width": null,
            "min_height": null,
            "min_width": null,
            "object_fit": null,
            "object_position": null,
            "order": null,
            "overflow": null,
            "overflow_x": null,
            "overflow_y": null,
            "padding": null,
            "right": null,
            "top": null,
            "visibility": null,
            "width": null
          }
        },
        "3bd607444dc6462089423e0044c49e16": {
          "model_module": "@jupyter-widgets/base",
          "model_name": "LayoutModel",
          "model_module_version": "1.2.0",
          "state": {
            "_model_module": "@jupyter-widgets/base",
            "_model_module_version": "1.2.0",
            "_model_name": "LayoutModel",
            "_view_count": null,
            "_view_module": "@jupyter-widgets/base",
            "_view_module_version": "1.2.0",
            "_view_name": "LayoutView",
            "align_content": null,
            "align_items": null,
            "align_self": null,
            "border": null,
            "bottom": null,
            "display": null,
            "flex": null,
            "flex_flow": null,
            "grid_area": null,
            "grid_auto_columns": null,
            "grid_auto_flow": null,
            "grid_auto_rows": null,
            "grid_column": null,
            "grid_gap": null,
            "grid_row": null,
            "grid_template_areas": null,
            "grid_template_columns": null,
            "grid_template_rows": null,
            "height": null,
            "justify_content": null,
            "justify_items": null,
            "left": null,
            "margin": null,
            "max_height": null,
            "max_width": null,
            "min_height": null,
            "min_width": null,
            "object_fit": null,
            "object_position": null,
            "order": null,
            "overflow": null,
            "overflow_x": null,
            "overflow_y": null,
            "padding": null,
            "right": null,
            "top": null,
            "visibility": null,
            "width": null
          }
        },
        "8c4a4c3b2c4441b1b945d249b2c3d765": {
          "model_module": "@jupyter-widgets/controls",
          "model_name": "DescriptionStyleModel",
          "model_module_version": "1.5.0",
          "state": {
            "_model_module": "@jupyter-widgets/controls",
            "_model_module_version": "1.5.0",
            "_model_name": "DescriptionStyleModel",
            "_view_count": null,
            "_view_module": "@jupyter-widgets/base",
            "_view_module_version": "1.2.0",
            "_view_name": "StyleView",
            "description_width": ""
          }
        },
        "5379091c1a344d9382b4fd50e675b11e": {
          "model_module": "@jupyter-widgets/base",
          "model_name": "LayoutModel",
          "model_module_version": "1.2.0",
          "state": {
            "_model_module": "@jupyter-widgets/base",
            "_model_module_version": "1.2.0",
            "_model_name": "LayoutModel",
            "_view_count": null,
            "_view_module": "@jupyter-widgets/base",
            "_view_module_version": "1.2.0",
            "_view_name": "LayoutView",
            "align_content": null,
            "align_items": null,
            "align_self": null,
            "border": null,
            "bottom": null,
            "display": null,
            "flex": null,
            "flex_flow": null,
            "grid_area": null,
            "grid_auto_columns": null,
            "grid_auto_flow": null,
            "grid_auto_rows": null,
            "grid_column": null,
            "grid_gap": null,
            "grid_row": null,
            "grid_template_areas": null,
            "grid_template_columns": null,
            "grid_template_rows": null,
            "height": null,
            "justify_content": null,
            "justify_items": null,
            "left": null,
            "margin": null,
            "max_height": null,
            "max_width": null,
            "min_height": null,
            "min_width": null,
            "object_fit": null,
            "object_position": null,
            "order": null,
            "overflow": null,
            "overflow_x": null,
            "overflow_y": null,
            "padding": null,
            "right": null,
            "top": null,
            "visibility": null,
            "width": "20px"
          }
        },
        "6b75b166f7fc4a71b710f6be726a955b": {
          "model_module": "@jupyter-widgets/controls",
          "model_name": "ProgressStyleModel",
          "model_module_version": "1.5.0",
          "state": {
            "_model_module": "@jupyter-widgets/controls",
            "_model_module_version": "1.5.0",
            "_model_name": "ProgressStyleModel",
            "_view_count": null,
            "_view_module": "@jupyter-widgets/base",
            "_view_module_version": "1.2.0",
            "_view_name": "StyleView",
            "bar_color": null,
            "description_width": ""
          }
        },
        "9d951e2829464ae3bcbd596352e3af2d": {
          "model_module": "@jupyter-widgets/base",
          "model_name": "LayoutModel",
          "model_module_version": "1.2.0",
          "state": {
            "_model_module": "@jupyter-widgets/base",
            "_model_module_version": "1.2.0",
            "_model_name": "LayoutModel",
            "_view_count": null,
            "_view_module": "@jupyter-widgets/base",
            "_view_module_version": "1.2.0",
            "_view_name": "LayoutView",
            "align_content": null,
            "align_items": null,
            "align_self": null,
            "border": null,
            "bottom": null,
            "display": null,
            "flex": null,
            "flex_flow": null,
            "grid_area": null,
            "grid_auto_columns": null,
            "grid_auto_flow": null,
            "grid_auto_rows": null,
            "grid_column": null,
            "grid_gap": null,
            "grid_row": null,
            "grid_template_areas": null,
            "grid_template_columns": null,
            "grid_template_rows": null,
            "height": null,
            "justify_content": null,
            "justify_items": null,
            "left": null,
            "margin": null,
            "max_height": null,
            "max_width": null,
            "min_height": null,
            "min_width": null,
            "object_fit": null,
            "object_position": null,
            "order": null,
            "overflow": null,
            "overflow_x": null,
            "overflow_y": null,
            "padding": null,
            "right": null,
            "top": null,
            "visibility": null,
            "width": null
          }
        },
        "e6ae489f1dcf48eb9f154dfc4a6e38a7": {
          "model_module": "@jupyter-widgets/controls",
          "model_name": "DescriptionStyleModel",
          "model_module_version": "1.5.0",
          "state": {
            "_model_module": "@jupyter-widgets/controls",
            "_model_module_version": "1.5.0",
            "_model_name": "DescriptionStyleModel",
            "_view_count": null,
            "_view_module": "@jupyter-widgets/base",
            "_view_module_version": "1.2.0",
            "_view_name": "StyleView",
            "description_width": ""
          }
        }
      }
    }
  },
  "nbformat": 4,
  "nbformat_minor": 0
}